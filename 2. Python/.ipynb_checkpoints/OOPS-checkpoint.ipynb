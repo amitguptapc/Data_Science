{
 "cells": [
  {
   "cell_type": "code",
   "execution_count": 1,
   "metadata": {},
   "outputs": [
    {
     "name": "stdout",
     "output_type": "stream",
     "text": [
      "<class '__main__.Person'>\n"
     ]
    }
   ],
   "source": [
    "class Person():\n",
    "    pass\n",
    "p=Person()\n",
    "print(type(p))"
   ]
  },
  {
   "cell_type": "code",
   "execution_count": 15,
   "metadata": {},
   "outputs": [
    {
     "name": "stdout",
     "output_type": "stream",
     "text": [
      "hello world\n",
      "My name is Amit\n",
      "AKGEC\n",
      "Indian\n",
      "My name is xyz\n",
      "KIET\n",
      "Indian\n"
     ]
    }
   ],
   "source": [
    "class Person():\n",
    "    # class variable, common for all objects of same class\n",
    "    nationality =\"Indian\"\n",
    "    def __init__(self,pname,college):\n",
    "        # instance variable, different for every object\n",
    "        self.name=pname\n",
    "        self.clg=college\n",
    "    def sayHi(self,name):\n",
    "        print(\"hello \"+name)\n",
    "    def introduce(self):\n",
    "        print(\"My name is \"+self.name)\n",
    "        print(self.clg)\n",
    "        print(self.nationality)\n",
    "        \n",
    "p=Person('Amit',\"AKGEC\")\n",
    "p.sayHi(\"world\")\n",
    "p.introduce()\n",
    "p=Person('xyz',\"KIET\")\n",
    "p.introduce()"
   ]
  },
  {
   "cell_type": "code",
   "execution_count": 26,
   "metadata": {},
   "outputs": [],
   "source": [
    "class Dog():\n",
    "    color=\"Brown\"\n",
    "    # common for all data members\n",
    "    activity=[]\n",
    "    def __init__(self, breed):\n",
    "        self.breed=breed\n",
    "    \n",
    "    def addActivity(self,act):\n",
    "        self.activity.append(act)\n",
    "        \n",
    "    def doActivity(self):\n",
    "        print(self.breed)\n",
    "        print(self.activity)"
   ]
  },
  {
   "cell_type": "code",
   "execution_count": 25,
   "metadata": {},
   "outputs": [
    {
     "name": "stdout",
     "output_type": "stream",
     "text": [
      "german shepherd\n",
      "['high Jump', 'Roll Over', 'roll upside down']\n",
      "golden retriever\n",
      "['high Jump', 'Roll Over', 'roll upside down']\n"
     ]
    }
   ],
   "source": [
    "d1= Dog(\"german shepherd\")\n",
    "d2=Dog(\"golden retriever\")\n",
    "d1.addActivity(\"high Jump\")\n",
    "d1.addActivity(\"Roll Over\")\n",
    "d2.addActivity(\"roll upside down\")\n",
    "d1.doActivity()\n",
    "d2.doActivity()"
   ]
  },
  {
   "cell_type": "code",
   "execution_count": 27,
   "metadata": {},
   "outputs": [],
   "source": [
    "class Dog():\n",
    "    color=\"Brown\"\n",
    "    def __init__(self, breed):\n",
    "        self.activity=[]\n",
    "        self.breed=breed\n",
    "    \n",
    "    def addActivity(self,act):\n",
    "        self.activity.append(act)\n",
    "        \n",
    "    def doActivity(self):\n",
    "        print(self.breed)\n",
    "        print(self.activity)\n",
    "d1= Dog(\"german shepherd\")\n",
    "d2=Dog(\"golden retriever\")\n",
    "d1.addActivity(\"high Jump\")\n",
    "d1.addActivity(\"Roll Over\")\n",
    "d2.addActivity(\"roll upside down\")\n",
    "d1.doActivity()\n",
    "d2.doActivity()"
   ]
  },
  {
   "cell_type": "code",
   "execution_count": null,
   "metadata": {},
   "outputs": [],
   "source": []
  }
 ],
 "metadata": {
  "kernelspec": {
   "display_name": "Python 3",
   "language": "python",
   "name": "python3"
  },
  "language_info": {
   "codemirror_mode": {
    "name": "ipython",
    "version": 3
   },
   "file_extension": ".py",
   "mimetype": "text/x-python",
   "name": "python",
   "nbconvert_exporter": "python",
   "pygments_lexer": "ipython3",
   "version": "3.6.9"
  }
 },
 "nbformat": 4,
 "nbformat_minor": 2
}
