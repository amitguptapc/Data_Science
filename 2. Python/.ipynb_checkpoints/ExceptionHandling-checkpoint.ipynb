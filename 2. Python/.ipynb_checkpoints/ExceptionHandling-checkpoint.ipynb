{
 "cells": [
  {
   "cell_type": "markdown",
   "metadata": {},
   "source": [
    "Exception Handling"
   ]
  },
  {
   "cell_type": "code",
   "execution_count": 7,
   "metadata": {},
   "outputs": [
    {
     "name": "stdout",
     "output_type": "stream",
     "text": [
      "var is not defined\n"
     ]
    }
   ],
   "source": [
    "try:\n",
    "    a=b\n",
    "    f=open(\"missing.txt\",\"r\")\n",
    "except FileNotFoundError:\n",
    "    print(\"File doesn't exist\")\n",
    "except NameError:\n",
    "    print(\"var is not defined\")\n",
    "except Exception:\n",
    "    print(\"Something went wrong\")"
   ]
  },
  {
   "cell_type": "code",
   "execution_count": 18,
   "metadata": {},
   "outputs": [
    {
     "name": "stdout",
     "output_type": "stream",
     "text": [
      "Enter name : Amit\n",
      "Success\n",
      "I am always\n"
     ]
    }
   ],
   "source": [
    "try:\n",
    "    a=input(\"Enter name : \")\n",
    "    if len(a)<3:\n",
    "        raise Exception\n",
    "except Exception:\n",
    "    print(\"Enter a valid name\")\n",
    "else :\n",
    "    print(\"Success\")\n",
    "finally:\n",
    "    print(\"I am always\")"
   ]
  },
  {
   "cell_type": "code",
   "execution_count": null,
   "metadata": {},
   "outputs": [],
   "source": []
  }
 ],
 "metadata": {
  "kernelspec": {
   "display_name": "Python 3",
   "language": "python",
   "name": "python3"
  },
  "language_info": {
   "codemirror_mode": {
    "name": "ipython",
    "version": 3
   },
   "file_extension": ".py",
   "mimetype": "text/x-python",
   "name": "python",
   "nbconvert_exporter": "python",
   "pygments_lexer": "ipython3",
   "version": "3.6.9"
  }
 },
 "nbformat": 4,
 "nbformat_minor": 2
}
