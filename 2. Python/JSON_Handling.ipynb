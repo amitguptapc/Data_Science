{
 "cells": [
  {
   "cell_type": "code",
   "execution_count": 1,
   "metadata": {},
   "outputs": [],
   "source": [
    "# JSON - JavaScript Object Notation"
   ]
  },
  {
   "cell_type": "code",
   "execution_count": 2,
   "metadata": {},
   "outputs": [],
   "source": [
    "# Python objects to JSON file - Serialization\n",
    "# JSON file to python objects - Deserialization"
   ]
  },
  {
   "cell_type": "code",
   "execution_count": 4,
   "metadata": {},
   "outputs": [
    {
     "name": "stdout",
     "output_type": "stream",
     "text": [
      "{'name': 'learning python', 'pages': 320, 'authors': [{'name': 'ABC', 'age': 25}, {'name': 'XYZ', 'age': 56}]}\n",
      "{'name': 'ABC', 'age': 25}\n"
     ]
    }
   ],
   "source": [
    "import json\n",
    "\n",
    "# python object\n",
    "book={\n",
    "    \"name\":'learning python',\n",
    "    'pages':320,\n",
    "    \"authors\":[\n",
    "        {\n",
    "            \"name\":\"ABC\",\n",
    "            \"age\":25\n",
    "        },\n",
    "        {\n",
    "            'name':'XYZ',\n",
    "            'age':56\n",
    "        }\n",
    "    ]\n",
    "}\n",
    "print(book)\n",
    "print(book['authors'][0])"
   ]
  },
  {
   "cell_type": "code",
   "execution_count": 5,
   "metadata": {},
   "outputs": [],
   "source": [
    "with open(\"myJsonFile.json\",'w') as f:\n",
    "    json.dump(book,f)"
   ]
  },
  {
   "cell_type": "code",
   "execution_count": 7,
   "metadata": {},
   "outputs": [
    {
     "name": "stdout",
     "output_type": "stream",
     "text": [
      "<class 'str'>\n"
     ]
    }
   ],
   "source": [
    "s=json.dumps(book) # returns a string\n",
    "print(type(s))"
   ]
  },
  {
   "cell_type": "code",
   "execution_count": 11,
   "metadata": {},
   "outputs": [
    {
     "name": "stdout",
     "output_type": "stream",
     "text": [
      "{'name': 'learning python', 'pages': 320, 'authors': [{'name': 'ABC', 'age': 25}, {'name': 'XYZ', 'age': 56}]}\n",
      "<class 'dict'>\n"
     ]
    }
   ],
   "source": [
    "obj=json.loads(s)\n",
    "print(obj)\n",
    "print(type(obj))"
   ]
  },
  {
   "cell_type": "code",
   "execution_count": 14,
   "metadata": {},
   "outputs": [
    {
     "name": "stdout",
     "output_type": "stream",
     "text": [
      "{'authors': [{'age': 25, 'name': 'ABC'}, {'age': 56, 'name': 'XYZ'}],\n",
      " 'name': 'learning python',\n",
      " 'pages': 320}\n"
     ]
    }
   ],
   "source": [
    "import pprint\n",
    "with open(\"myJsonFile.json\",'r') as f:\n",
    "    data=json.load(f)\n",
    "    pprint.pprint(data)"
   ]
  },
  {
   "cell_type": "code",
   "execution_count": null,
   "metadata": {},
   "outputs": [],
   "source": []
  }
 ],
 "metadata": {
  "kernelspec": {
   "display_name": "Python 3",
   "language": "python",
   "name": "python3"
  },
  "language_info": {
   "codemirror_mode": {
    "name": "ipython",
    "version": 3
   },
   "file_extension": ".py",
   "mimetype": "text/x-python",
   "name": "python",
   "nbconvert_exporter": "python",
   "pygments_lexer": "ipython3",
   "version": "3.6.9"
  }
 },
 "nbformat": 4,
 "nbformat_minor": 2
}
