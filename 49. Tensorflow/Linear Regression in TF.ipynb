{
 "cells": [
  {
   "cell_type": "markdown",
   "metadata": {},
   "source": [
    "## Linear Regression in Tensorflow"
   ]
  },
  {
   "cell_type": "code",
   "execution_count": 28,
   "metadata": {},
   "outputs": [],
   "source": [
    "import numpy as np\n",
    "import tensorflow as tf\n",
    "from sklearn.datasets import load_boston\n",
    "from sklearn.model_selection import train_test_split\n",
    "from matplotlib import pyplot as plt"
   ]
  },
  {
   "cell_type": "code",
   "execution_count": 29,
   "metadata": {},
   "outputs": [],
   "source": [
    "boston = load_boston()"
   ]
  },
  {
   "cell_type": "code",
   "execution_count": 30,
   "metadata": {},
   "outputs": [
    {
     "name": "stdout",
     "output_type": "stream",
     "text": [
      "(506, 13) (506, 1)\n"
     ]
    }
   ],
   "source": [
    "features = np.array(boston.data)\n",
    "labels = np.array(boston.target)\n",
    "labels = labels.reshape((-1,1))\n",
    "print(features.shape,labels.shape)"
   ]
  },
  {
   "cell_type": "code",
   "execution_count": 31,
   "metadata": {},
   "outputs": [],
   "source": [
    "def normalize(data):\n",
    "    normal_data = (data-data.mean())/data.std()\n",
    "    return normal_data"
   ]
  },
  {
   "cell_type": "code",
   "execution_count": 32,
   "metadata": {},
   "outputs": [],
   "source": [
    "features = normalize(features)\n",
    "labels = normalize(labels)"
   ]
  },
  {
   "cell_type": "code",
   "execution_count": 33,
   "metadata": {},
   "outputs": [
    {
     "name": "stdout",
     "output_type": "stream",
     "text": [
      "(506, 14)\n"
     ]
    }
   ],
   "source": [
    "bias = np.ones((features.shape[0],1))\n",
    "features = np.concatenate((bias,features),axis=1)\n",
    "print(features.shape)"
   ]
  },
  {
   "cell_type": "code",
   "execution_count": 34,
   "metadata": {},
   "outputs": [],
   "source": [
    "X_train, X_test, Y_train, Y_test = train_test_split(features,labels,test_size=0.2)"
   ]
  },
  {
   "cell_type": "code",
   "execution_count": 35,
   "metadata": {},
   "outputs": [
    {
     "name": "stdout",
     "output_type": "stream",
     "text": [
      "(404, 14) (404, 1)\n",
      "(102, 14) (102, 1)\n"
     ]
    }
   ],
   "source": [
    "print(X_train.shape,Y_train.shape)\n",
    "print(X_test.shape,Y_test.shape)"
   ]
  },
  {
   "cell_type": "markdown",
   "metadata": {},
   "source": [
    "### Creating Model"
   ]
  },
  {
   "cell_type": "code",
   "execution_count": 36,
   "metadata": {},
   "outputs": [],
   "source": [
    "n_samples = features.shape[0]\n",
    "n_features = features.shape[1]\n",
    "epochs = 40"
   ]
  },
  {
   "cell_type": "code",
   "execution_count": 37,
   "metadata": {},
   "outputs": [
    {
     "name": "stdout",
     "output_type": "stream",
     "text": [
      "<tf.Variable 'Variable_2:0' shape=(14, 1) dtype=float32_ref>\n"
     ]
    }
   ],
   "source": [
    "X = tf.placeholder(dtype=tf.float32,shape=[None,n_features])\n",
    "Y = tf.placeholder(dtype=tf.float32,shape=[None,1])\n",
    "W = tf.Variable(tf.random_normal(shape=(n_features,1)))\n",
    "print(W)\n",
    "Y_pred = tf.matmul(X,W)"
   ]
  },
  {
   "cell_type": "code",
   "execution_count": 38,
   "metadata": {},
   "outputs": [],
   "source": [
    "cost = tf.reduce_mean(tf.square(Y_pred-Y))\n",
    "opt = tf.train.GradientDescentOptimizer(learning_rate=0.01).minimize(cost)"
   ]
  },
  {
   "cell_type": "code",
   "execution_count": 39,
   "metadata": {},
   "outputs": [
    {
     "name": "stdout",
     "output_type": "stream",
     "text": [
      "Epoch 1 :\n",
      "Training Loss : 4.4994 and Testing Loss : 4.9629\n",
      "Epoch 2 :\n",
      "Training Loss : 3.3226 and Testing Loss : 3.6889\n",
      "Epoch 3 :\n",
      "Training Loss : 2.6451 and Testing Loss : 2.9386\n",
      "Epoch 4 :\n",
      "Training Loss : 2.2464 and Testing Loss : 2.4856\n",
      "Epoch 5 :\n",
      "Training Loss : 2.0039 and Testing Loss : 2.2028\n",
      "Epoch 6 :\n",
      "Training Loss : 1.8492 and Testing Loss : 2.0182\n",
      "Epoch 7 :\n",
      "Training Loss : 1.7443 and Testing Loss : 1.8913\n",
      "Epoch 8 :\n",
      "Training Loss : 1.6679 and Testing Loss : 1.7987\n",
      "Epoch 9 :\n",
      "Training Loss : 1.6081 and Testing Loss : 1.7271\n",
      "Epoch 10 :\n",
      "Training Loss : 1.5584 and Testing Loss : 1.6688\n",
      "Epoch 11 :\n",
      "Training Loss : 1.5149 and Testing Loss : 1.6192\n",
      "Epoch 12 :\n",
      "Training Loss : 1.4757 and Testing Loss : 1.5756\n",
      "Epoch 13 :\n",
      "Training Loss : 1.4394 and Testing Loss : 1.5364\n",
      "Epoch 14 :\n",
      "Training Loss : 1.4055 and Testing Loss : 1.5006\n",
      "Epoch 15 :\n",
      "Training Loss : 1.3735 and Testing Loss : 1.4674\n",
      "Epoch 16 :\n",
      "Training Loss : 1.3430 and Testing Loss : 1.4364\n",
      "Epoch 17 :\n",
      "Training Loss : 1.3140 and Testing Loss : 1.4074\n",
      "Epoch 18 :\n",
      "Training Loss : 1.2864 and Testing Loss : 1.3801\n",
      "Epoch 19 :\n",
      "Training Loss : 1.2600 and Testing Loss : 1.3544\n",
      "Epoch 20 :\n",
      "Training Loss : 1.2348 and Testing Loss : 1.3300\n",
      "Epoch 21 :\n",
      "Training Loss : 1.2107 and Testing Loss : 1.3070\n",
      "Epoch 22 :\n",
      "Training Loss : 1.1876 and Testing Loss : 1.2852\n",
      "Epoch 23 :\n",
      "Training Loss : 1.1656 and Testing Loss : 1.2646\n",
      "Epoch 24 :\n",
      "Training Loss : 1.1445 and Testing Loss : 1.2450\n",
      "Epoch 25 :\n",
      "Training Loss : 1.1244 and Testing Loss : 1.2264\n",
      "Epoch 26 :\n",
      "Training Loss : 1.1051 and Testing Loss : 1.2089\n",
      "Epoch 27 :\n",
      "Training Loss : 1.0867 and Testing Loss : 1.1922\n",
      "Epoch 28 :\n",
      "Training Loss : 1.0690 and Testing Loss : 1.1764\n",
      "Epoch 29 :\n",
      "Training Loss : 1.0522 and Testing Loss : 1.1614\n",
      "Epoch 30 :\n",
      "Training Loss : 1.0360 and Testing Loss : 1.1472\n",
      "Epoch 31 :\n",
      "Training Loss : 1.0206 and Testing Loss : 1.1338\n",
      "Epoch 32 :\n",
      "Training Loss : 1.0058 and Testing Loss : 1.1210\n",
      "Epoch 33 :\n",
      "Training Loss : 0.9917 and Testing Loss : 1.1089\n",
      "Epoch 34 :\n",
      "Training Loss : 0.9781 and Testing Loss : 1.0975\n",
      "Epoch 35 :\n",
      "Training Loss : 0.9652 and Testing Loss : 1.0867\n",
      "Epoch 36 :\n",
      "Training Loss : 0.9528 and Testing Loss : 1.0764\n",
      "Epoch 37 :\n",
      "Training Loss : 0.9409 and Testing Loss : 1.0667\n",
      "Epoch 38 :\n",
      "Training Loss : 0.9296 and Testing Loss : 1.0576\n",
      "Epoch 39 :\n",
      "Training Loss : 0.9187 and Testing Loss : 1.0489\n",
      "Epoch 40 :\n",
      "Training Loss : 0.9083 and Testing Loss : 1.0407\n"
     ]
    }
   ],
   "source": [
    "loss = []\n",
    "with tf.Session() as sess:\n",
    "    sess.run(tf.global_variables_initializer())\n",
    "    for epoch in range(epochs):\n",
    "        sess.run(opt,feed_dict = {\n",
    "            X : X_train,\n",
    "            Y : Y_train\n",
    "        })\n",
    "        train_loss = sess.run(cost,feed_dict = {\n",
    "            X : X_train,\n",
    "            Y : Y_train\n",
    "        })\n",
    "        loss.append(train_loss)\n",
    "        test_loss = sess.run(cost,feed_dict = {\n",
    "            X : X_test,\n",
    "            Y : Y_test\n",
    "        })\n",
    "        print('Epoch {} :'.format(epoch+1))\n",
    "        print('Training Loss : {:.4f} and Testing Loss : {:.4f}'.format(train_loss,test_loss))"
   ]
  },
  {
   "cell_type": "code",
   "execution_count": 43,
   "metadata": {},
   "outputs": [
    {
     "data": {
      "image/png": "[encoded data removed]",
      "text/plain": [
       "<Figure size 576x396 with 1 Axes>"
      ]
     },
     "metadata": {},
     "output_type": "display_data"
    }
   ],
   "source": [
    "plt.style.use('seaborn')\n",
    "plt.plot(loss)\n",
    "plt.show()"
   ]
  }
 ],
 "metadata": {
  "kernelspec": {
   "display_name": "Python 3",
   "language": "python",
   "name": "python3"
  },
  "language_info": {
   "codemirror_mode": {
    "name": "ipython",
    "version": 3
   },
   "file_extension": ".py",
   "mimetype": "text/x-python",
   "name": "python",
   "nbconvert_exporter": "python",
   "pygments_lexer": "ipython3",
   "version": "3.6.9"
  }
 },
 "nbformat": 4,
 "nbformat_minor": 2
}
