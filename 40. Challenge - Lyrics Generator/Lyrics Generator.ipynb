{
 "cells": [
  {
   "cell_type": "markdown",
   "metadata": {},
   "source": [
    "### Lyrics Generator"
   ]
  },
  {
   "cell_type": "markdown",
   "metadata": {},
   "source": [
    "#### Loading the Dataset"
   ]
  },
  {
   "cell_type": "code",
   "execution_count": 2,
   "metadata": {},
   "outputs": [],
   "source": [
    "with open('Apna Time Aayega.txt',encoding='UTF-8') as f:\n",
    "    text = f.read().lower()"
   ]
  },
  {
   "cell_type": "code",
   "execution_count": 3,
   "metadata": {},
   "outputs": [
    {
     "name": "stdout",
     "output_type": "stream",
     "text": [
      "apna time aayega\n",
      "uth ja apni raakh se\n",
      "tu udd ja ab talaash mein\n",
      "parwaaz dekh parwane ki\n",
      "aasman bhi sar uthayega\n",
      "aayega apna time aayega\n",
      "mere jaisa shaana lala\n",
      "tujhe na mil payega\n",
      " \n",
      "yeh shabdon ka jwala\n",
      "meri bediyan pighlayega\n",
      "jitna toone boya hai tu\n",
      "utna hi to khaayega\n",
      "aisa mera khwaab hai\n",
      "jo darr ko bhi satayega\n",
      "zinda mera khwaab\n",
      "ab kaise tu dafnayega\n",
      " \n",
      "ab hausle se jeene de\n",
      "ab khauf nahi hai seene mein\n",
      "har raaste ko cheerenge\n",
      "hum kaamyabi chheenenge\n",
      "sab kuchh mila paseene se\n",
      "matlab bana ab jeene mein\n",
      " \n",
      "kyon\n",
      "kyon ki apna time aayega\n",
      " \n",
      "tu nanga hi to aaya hai\n",
      "kya ghanta lekar jaayega\n",
      "apna time aayega\n",
      "apna time aayega\n",
      "apna time aayega x (2)\n",
      " \n",
      "tu nanga hi to aaya hai\n",
      "kya ghanta lekar..\n",
      " \n",
      "kissi ka hath nahi tha sar par\n",
      "yahaan par aaya khud ki mehnat se main\n",
      "jitni taakat kismat mein nahi\n",
      "utni rehmat mein hai\n",
      "phir bhi ladka sehmat nahin hai\n",
      "kyon ki hairat nahi hai\n",
      "zaroorat yahaan marzi ki\n",
      "aur jurrat ki hai\n",
      " \n",
      "taakat ki hai, aafat ki\n",
      "himaakat ki, ibaadat ki\n",
      "adalat yeh hai chahat ki\n",
      "mohobbat ki, amaanat ki\n",
      "jeetne ki ab aadat ki hai\n",
      "shohrat ki ab laalach nai hai\n",
      "tere bhai jaisa koyi hard’ch nai hai\n",
      " \n",
      "iss harkat ne hi barkat di hai\n",
      "kyon?\n",
      " \n",
      "tu nanga hi to aaya hai\n",
      "kya ghanta lekar jaayega\n",
      "apna time aayega\n",
      "apna time aayega\n",
      "apna time aayega\n",
      " \n",
      "tu nanga hi to aaya hai\n",
      "kya ghanta lekar jaayega\n",
      "kya tu ghanta lekar jaayega\n",
      "apna time aayega\n",
      "apna time aayega\n"
     ]
    }
   ],
   "source": [
    "print(text)"
   ]
  },
  {
   "cell_type": "markdown",
   "metadata": {},
   "source": [
    "#### Implementing The Model"
   ]
  },
  {
   "cell_type": "code",
   "execution_count": 4,
   "metadata": {},
   "outputs": [],
   "source": [
    "def train(data,k=4):\n",
    "    T = {}\n",
    "    for i in range(len(data)-k):\n",
    "        X = data[i:i+k]\n",
    "        Y = data[i+k]\n",
    "        if T.get(X) is None:\n",
    "            T[X] = {}\n",
    "            T[X][Y] = 1\n",
    "        else:\n",
    "            if T[X].get(Y) is None:\n",
    "                T[X][Y] = 1\n",
    "            else:\n",
    "                T[X][Y] += 1\n",
    "    for kx in T.keys():\n",
    "        s = float(sum(T[kx].values()))\n",
    "        for k in T[kx].keys():\n",
    "            T[kx][k] = T[kx][k]/s\n",
    "    return T"
   ]
  },
  {
   "cell_type": "code",
   "execution_count": 5,
   "metadata": {},
   "outputs": [
    {
     "name": "stdout",
     "output_type": "stream",
     "text": [
      "{'apna': {' ': 1.0}, 'pna ': {'t': 1.0}, 'na t': {'i': 0.9166666666666666, 'o': 0.08333333333333333}, 'a ti': {'m': 1.0}, ' tim': {'e': 1.0}, 'time': {' ': 1.0}, 'ime ': {'a': 1.0}, 'me a': {'a': 1.0}, 'e aa': {'y': 1.0}, ' aay': {'e': 0.6875, 'a': 0.3125}, 'aaye': {'g': 1.0}, 'ayeg': {'a': 1.0}, 'yega': {'\\n': 0.9047619047619048, ' ': 0.09523809523809523}, 'ega\\n': {'u': 0.05263157894736842, 'a': 0.5263157894736842, 'm': 0.05263157894736842, ' ': 0.21052631578947367, 'j': 0.05263157894736842, 'z': 0.05263157894736842, 'k': 0.05263157894736842}, 'ga\\nu': {'t': 1.0}, 'a\\nut': {'h': 1.0}, '\\nuth': {' ': 1.0}, 'uth ': {'j': 1.0}, 'th j': {'a': 1.0}, 'h ja': {' ': 1.0}, ' ja ': {'a': 1.0}, 'ja a': {'p': 0.5, 'b': 0.5}, 'a ap': {'n': 1.0}, ' apn': {'i': 0.3333333333333333, 'a': 0.6666666666666666}, 'apni': {' ': 1.0}, 'pni ': {'r': 1.0}, 'ni r': {'a': 0.5, 'e': 0.5}, 'i ra': {'a': 1.0}, ' raa': {'k': 0.5, 's': 0.5}, 'raak': {'h': 1.0}, 'aakh': {' ': 1.0}, 'akh ': {'s': 1.0}, 'kh s': {'e': 1.0}, 'h se': {'\\n': 1.0}, ' se\\n': {'t': 0.5, 'm': 0.5}, 'se\\nt': {'u': 1.0}, 'e\\ntu': {' ': 1.0}, '\\ntu ': {'u': 0.2, 'n': 0.8}, 'tu u': {'d': 1.0}, 'u ud': {'d': 1.0}, ' udd': {' ': 1.0}, 'udd ': {'j': 1.0}, 'dd j': {'a': 1.0}, 'd ja': {' ': 1.0}, 'a ab': {' ': 1.0}, ' ab ': {'t': 0.25, 'j': 0.25, 'a': 0.25, 'l': 0.25}, 'ab t': {'a': 1.0}, 'b ta': {'l': 1.0}, ' tal': {'a': 1.0}, 'tala': {'a': 1.0}, 'alaa': {'s': 1.0}, 'laas': {'h': 1.0}, 'aash': {' ': 1.0}, 'ash ': {'m': 1.0}, 'sh m': {'e': 1.0}, 'h me': {'i': 1.0}, ' mei': {'n': 1.0}, 'mein': {'\\n': 0.6, ' ': 0.4}, 'ein\\n': {'p': 0.3333333333333333, 'h': 0.3333333333333333, ' ': 0.3333333333333333}, 'in\\np': {'a': 1.0}, 'n\\npa': {'r': 1.0}, '\\npar': {'w': 1.0}, 'parw': {'a': 1.0}, 'arwa': {'a': 0.5, 'n': 0.5}, 'rwaa': {'z': 1.0}, 'waaz': {' ': 1.0}, 'aaz ': {'d': 1.0}, 'az d': {'e': 1.0}, 'z de': {'k': 1.0}, ' dek': {'h': 1.0}, 'dekh': {' ': 1.0}, 'ekh ': {'p': 1.0}, 'kh p': {'a': 1.0}, 'h pa': {'r': 1.0}, ' par': {'w': 0.3333333333333333, '\\n': 0.3333333333333333, ' ': 0.3333333333333333}, 'rwan': {'e': 1.0}, 'wane': {' ': 1.0}, 'ane ': {'k': 1.0}, 'ne k': {'i': 1.0}, 'e ki': {'\\n': 0.5, ' ': 0.5}, ' ki\\n': {'a': 0.5, 'h': 0.16666666666666666, 'm': 0.16666666666666666, 'j': 0.16666666666666666}, 'ki\\na': {'a': 0.3333333333333333, 'u': 0.3333333333333333, 'd': 0.3333333333333333}, 'i\\naa': {'s': 1.0}, '\\naas': {'m': 1.0}, 'aasm': {'a': 1.0}, 'asma': {'n': 1.0}, 'sman': {' ': 1.0}, 'man ': {'b': 1.0}, 'an b': {'h': 1.0}, 'n bh': {'i': 1.0}, ' bhi': {' ': 1.0}, 'bhi ': {'s': 0.6666666666666666, 'l': 0.3333333333333333}, 'hi s': {'a': 1.0}, 'i sa': {'r': 0.5, 't': 0.5}, ' sar': {' ': 1.0}, 'sar ': {'u': 0.5, 'p': 0.5}, 'ar u': {'t': 1.0}, 'r ut': {'h': 1.0}, ' uth': {'a': 1.0}, 'utha': {'y': 1.0}, 'thay': {'e': 1.0}, 'haye': {'g': 1.0}, 'ga\\na': {'a': 0.1, 'i': 0.1, 'p': 0.8}, 'a\\naa': {'y': 1.0}, '\\naay': {'e': 1.0}, 'ega ': {'a': 0.5, 'x': 0.5}, 'ga a': {'p': 1.0}, 'ga\\nm': {'e': 1.0}, 'a\\nme': {'r': 1.0}, '\\nmer': {'e': 0.5, 'i': 0.5}, 'mere': {' ': 1.0}, 'ere ': {'j': 0.5, 'b': 0.5}, 're j': {'a': 1.0}, 'e ja': {'i': 1.0}, ' jai': {'s': 1.0}, 'jais': {'a': 1.0}, 'aisa': {' ': 1.0}, 'isa ': {'s': 0.3333333333333333, 'm': 0.3333333333333333, 'k': 0.3333333333333333}, 'sa s': {'h': 1.0}, 'a sh': {'a': 1.0}, ' sha': {'a': 0.5, 'b': 0.5}, 'shaa': {'n': 1.0}, 'haan': {'a': 0.3333333333333333, ' ': 0.6666666666666666}, 'aana': {' ': 0.5, 't': 0.5}, 'ana ': {'l': 0.5, 'a': 0.5}, 'na l': {'a': 1.0}, 'a la': {'l': 1.0}, ' lal': {'a': 1.0}, 'lala': {'\\n': 1.0}, 'ala\\n': {'t': 0.5, 'm': 0.5}, 'la\\nt': {'u': 1.0}, 'a\\ntu': {'j': 1.0}, '\\ntuj': {'h': 1.0}, 'tujh': {'e': 1.0}, 'ujhe': {' ': 1.0}, 'jhe ': {'n': 1.0}, 'he n': {'a': 1.0}, 'e na': {' ': 1.0}, ' na ': {'m': 1.0}, 'na m': {'i': 1.0}, 'a mi': {'l': 1.0}, ' mil': {' ': 0.5, 'a': 0.5}, 'mil ': {'p': 1.0}, 'il p': {'a': 1.0}, 'l pa': {'y': 1.0}, ' pay': {'e': 1.0}, 'paye': {'g': 1.0}, 'ga\\n ': {'\\n': 1.0}, 'a\\n \\n': {'y': 0.25, 'a': 0.25, 't': 0.5}, '\\n \\ny': {'e': 1.0}, ' \\nye': {'h': 1.0}, '\\nyeh': {' ': 1.0}, 'yeh ': {'s': 0.5, 'h': 0.5}, 'eh s': {'h': 1.0}, 'h sh': {'a': 1.0}, 'shab': {'d': 1.0}, 'habd': {'o': 1.0}, 'abdo': {'n': 1.0}, 'bdon': {' ': 1.0}, 'don ': {'k': 1.0}, 'on k': {'a': 0.3333333333333333, 'i': 0.6666666666666666}, 'n ka': {' ': 1.0}, ' ka ': {'j': 0.5, 'h': 0.5}, 'ka j': {'w': 1.0}, 'a jw': {'a': 1.0}, ' jwa': {'l': 1.0}, 'jwal': {'a': 1.0}, 'wala': {'\\n': 1.0}, 'la\\nm': {'e': 1.0}, 'meri': {' ': 1.0}, 'eri ': {'b': 1.0}, 'ri b': {'e': 1.0}, 'i be': {'d': 1.0}, ' bed': {'i': 1.0}, 'bedi': {'y': 1.0}, 'ediy': {'a': 1.0}, 'diya': {'n': 1.0}, 'iyan': {' ': 1.0}, 'yan ': {'p': 1.0}, 'an p': {'i': 0.5, 'a': 0.5}, 'n pi': {'g': 1.0}, ' pig': {'h': 1.0}, 'pigh': {'l': 1.0}, 'ighl': {'a': 1.0}, 'ghla': {'y': 1.0}, 'hlay': {'e': 1.0}, 'laye': {'g': 1.0}, 'ga\\nj': {'i': 1.0}, 'a\\nji': {'t': 1.0}, '\\njit': {'n': 1.0}, 'jitn': {'a': 0.5, 'i': 0.5}, 'itna': {' ': 1.0}, 'tna ': {'t': 0.5, 'h': 0.5}, 'a to': {'o': 1.0}, ' too': {'n': 1.0}, 'toon': {'e': 1.0}, 'oone': {' ': 1.0}, 'one ': {'b': 1.0}, 'ne b': {'o': 1.0}, 'e bo': {'y': 1.0}, ' boy': {'a': 1.0}, 'boya': {' ': 1.0}, 'oya ': {'h': 1.0}, 'ya h': {'a': 1.0}, 'a ha': {'i': 0.8333333333333334, 't': 0.16666666666666666}, ' hai': {' ': 0.16666666666666666, '\\n': 0.7222222222222222, 'r': 0.05555555555555555, ',': 0.05555555555555555}, 'hai ': {'t': 0.25, 's': 0.25, 'c': 0.25, 'j': 0.25}, 'ai t': {'u': 1.0}, 'i tu': {'\\n': 1.0}, ' tu\\n': {'u': 1.0}, 'tu\\nu': {'t': 1.0}, 'u\\nut': {'n': 1.0}, '\\nutn': {'a': 0.5, 'i': 0.5}, 'utna': {' ': 1.0}, 'na h': {'i': 1.0}, 'a hi': {' ': 1.0}, ' hi ': {'t': 0.8333333333333334, 'b': 0.16666666666666666}, 'hi t': {'o': 0.8333333333333334, 'h': 0.16666666666666666}, 'i to': {' ': 1.0}, ' to ': {'k': 0.2, 'a': 0.8}, 'to k': {'h': 1.0}, 'o kh': {'a': 1.0}, ' kha': {'a': 0.5, 'u': 0.5}, 'khaa': {'y': 1.0}, 'haay': {'e': 1.0}, 'a\\nai': {'s': 1.0}, '\\nais': {'a': 1.0}, 'sa m': {'e': 1.0}, 'a me': {'r': 1.0}, ' mer': {'a': 1.0}, 'mera': {' ': 1.0}, 'era ': {'k': 1.0}, 'ra k': {'h': 1.0}, 'a kh': {'w': 0.6666666666666666, 'u': 0.3333333333333333}, ' khw': {'a': 1.0}, 'khwa': {'a': 1.0}, 'hwaa': {'b': 1.0}, 'waab': {' ': 0.5, '\\n': 0.5}, 'aab ': {'h': 1.0}, 'ab h': {'a': 1.0}, 'b ha': {'i': 0.5, 'u': 0.5}, 'hai\\n': {'j': 0.07692307692307693, 'k': 0.46153846153846156, 'p': 0.07692307692307693, 'z': 0.07692307692307693, ' ': 0.15384615384615385, 's': 0.07692307692307693, 't': 0.07692307692307693}, 'ai\\nj': {'o': 1.0}, 'i\\njo': {' ': 1.0}, '\\njo ': {'d': 1.0}, 'jo d': {'a': 1.0}, 'o da': {'r': 1.0}, ' dar': {'r': 1.0}, 'darr': {' ': 1.0}, 'arr ': {'k': 1.0}, 'rr k': {'o': 1.0}, 'r ko': {' ': 1.0}, ' ko ': {'b': 0.5, 'c': 0.5}, 'ko b': {'h': 1.0}, 'o bh': {'i': 1.0}, ' sat': {'a': 1.0}, 'sata': {'y': 1.0}, 'atay': {'e': 1.0}, 'taye': {'g': 1.0}, 'ga\\nz': {'i': 1.0}, 'a\\nzi': {'n': 1.0}, '\\nzin': {'d': 1.0}, 'zind': {'a': 1.0}, 'inda': {' ': 1.0}, 'nda ': {'m': 1.0}, 'da m': {'e': 1.0}, 'aab\\n': {'a': 1.0}, 'ab\\na': {'b': 1.0}, 'b\\nab': {' ': 1.0}, '\\nab ': {'k': 0.6666666666666666, 'h': 0.3333333333333333}, 'ab k': {'a': 0.3333333333333333, 'h': 0.3333333333333333, 'u': 0.3333333333333333}, 'b ka': {'i': 1.0}, ' kai': {'s': 1.0}, 'kais': {'e': 1.0}, 'aise': {' ': 1.0}, 'ise ': {'t': 1.0}, 'se t': {'u': 1.0}, 'e tu': {' ': 1.0}, ' tu ': {'d': 0.5, 'g': 0.5}, 'tu d': {'a': 1.0}, 'u da': {'f': 1.0}, ' daf': {'n': 1.0}, 'dafn': {'a': 1.0}, 'afna': {'y': 1.0}, 'fnay': {'e': 1.0}, 'naye': {'g': 1.0}, '\\n \\na': {'b': 1.0}, ' \\nab': {' ': 1.0}, ' hau': {'s': 1.0}, 'haus': {'l': 1.0}, 'ausl': {'e': 1.0}, 'usle': {' ': 1.0}, 'sle ': {'s': 1.0}, 'le s': {'e': 1.0}, 'e se': {' ': 0.5, '\\n': 0.5}, ' se ': {'j': 0.5, 'm': 0.5}, 'se j': {'e': 1.0}, 'e je': {'e': 1.0}, ' jee': {'n': 1.0}, 'jeen': {'e': 1.0}, 'eene': {' ': 0.8, 'n': 0.2}, 'ene ': {'d': 0.25, 'm': 0.5, 's': 0.25}, 'ne d': {'e': 1.0}, 'e de': {'\\n': 1.0}, ' de\\n': {'a': 1.0}, 'de\\na': {'b': 1.0}, 'e\\nab': {' ': 1.0}, 'b kh': {'a': 1.0}, 'khau': {'f': 1.0}, 'hauf': {' ': 1.0}, 'auf ': {'n': 1.0}, 'uf n': {'a': 1.0}, 'f na': {'h': 1.0}, ' nah': {'i': 1.0}, 'nahi': {' ': 0.6, '\\n': 0.2, 'n': 0.2}, 'ahi ': {'h': 0.6666666666666666, 't': 0.3333333333333333}, 'hi h': {'a': 1.0}, 'i ha': {'i': 0.9, 'r': 0.1}, 'ai s': {'e': 1.0}, 'i se': {'e': 1.0}, ' see': {'n': 1.0}, 'seen': {'e': 1.0}, 'ne m': {'e': 1.0}, 'e me': {'i': 1.0}, 'in\\nh': {'a': 1.0}, 'n\\nha': {'r': 1.0}, '\\nhar': {' ': 1.0}, 'har ': {'r': 1.0}, 'ar r': {'a': 1.0}, 'r ra': {'a': 1.0}, 'raas': {'t': 1.0}, 'aast': {'e': 1.0}, 'aste': {' ': 1.0}, 'ste ': {'k': 1.0}, 'te k': {'o': 1.0}, 'e ko': {' ': 1.0}, 'ko c': {'h': 1.0}, 'o ch': {'e': 1.0}, ' che': {'e': 1.0}, 'chee': {'r': 1.0}, 'heer': {'e': 1.0}, 'eere': {'n': 1.0}, 'eren': {'g': 1.0}, 'reng': {'e': 1.0}, 'enge': {'\\n': 1.0}, 'nge\\n': {'h': 0.5, 's': 0.5}, 'ge\\nh': {'u': 1.0}, 'e\\nhu': {'m': 1.0}, '\\nhum': {' ': 1.0}, 'hum ': {'k': 1.0}, 'um k': {'a': 1.0}, 'm ka': {'a': 1.0}, ' kaa': {'m': 1.0}, 'kaam': {'y': 1.0}, 'aamy': {'a': 1.0}, 'amya': {'b': 1.0}, 'myab': {'i': 1.0}, 'yabi': {' ': 1.0}, 'abi ': {'c': 1.0}, 'bi c': {'h': 1.0}, 'i ch': {'h': 0.5, 'a': 0.5}, ' chh': {'e': 1.0}, 'chhe': {'e': 1.0}, 'hhee': {'n': 1.0}, 'heen': {'e': 1.0}, 'enen': {'g': 1.0}, 'neng': {'e': 1.0}, 'ge\\ns': {'a': 1.0}, 'e\\nsa': {'b': 1.0}, '\\nsab': {' ': 1.0}, 'sab ': {'k': 1.0}, 'b ku': {'c': 1.0}, ' kuc': {'h': 1.0}, 'kuch': {'h': 1.0}, 'uchh': {' ': 1.0}, 'chh ': {'m': 1.0}, 'hh m': {'i': 1.0}, 'h mi': {'l': 1.0}, 'mila': {' ': 1.0}, 'ila ': {'p': 1.0}, 'la p': {'a': 1.0}, 'a pa': {'s': 1.0}, ' pas': {'e': 1.0}, 'pase': {'e': 1.0}, 'asee': {'n': 1.0}, 'ne s': {'e': 1.0}, 'se\\nm': {'a': 1.0}, 'e\\nma': {'t': 1.0}, '\\nmat': {'l': 1.0}, 'matl': {'a': 1.0}, 'atla': {'b': 1.0}, 'tlab': {' ': 1.0}, 'lab ': {'b': 1.0}, 'ab b': {'a': 1.0}, 'b ba': {'n': 1.0}, ' ban': {'a': 1.0}, 'bana': {' ': 1.0}, 'na a': {'b': 1.0}, 'ab j': {'e': 1.0}, 'b je': {'e': 1.0}, 'in\\n ': {'\\n': 1.0}, 'n\\n \\n': {'k': 1.0}, '\\n \\nk': {'y': 0.5, 'i': 0.5}, ' \\nky': {'o': 1.0}, '\\nkyo': {'n': 1.0}, 'kyon': {'\\n': 0.25, ' ': 0.5, '?': 0.25}, 'yon\\n': {'k': 1.0}, 'on\\nk': {'y': 1.0}, 'n\\nky': {'o': 1.0}, 'yon ': {'k': 1.0}, 'n ki': {' ': 1.0}, ' ki ': {'a': 0.375, 'm': 0.125, 'h': 0.5}, 'ki a': {'p': 0.3333333333333333, 'b': 0.6666666666666666}, 'i ap': {'n': 1.0}, '\\n \\nt': {'u': 0.8, 'a': 0.2}, ' \\ntu': {' ': 1.0}, 'tu n': {'a': 1.0}, 'u na': {'n': 1.0}, ' nan': {'g': 1.0}, 'nang': {'a': 1.0}, 'anga': {' ': 1.0}, 'nga ': {'h': 1.0}, 'ga h': {'i': 1.0}, 'to a': {'a': 1.0}, 'o aa': {'y': 1.0}, 'aaya': {' ': 1.0}, 'aya ': {'h': 0.8, 'k': 0.2}, 'ai\\nk': {'y': 1.0}, 'i\\nky': {'a': 0.6666666666666666, 'o': 0.3333333333333333}, '\\nkya': {' ': 1.0}, 'kya ': {'g': 0.8, 't': 0.2}, 'ya g': {'h': 1.0}, 'a gh': {'a': 1.0}, ' gha': {'n': 1.0}, 'ghan': {'t': 1.0}, 'hant': {'a': 1.0}, 'anta': {' ': 1.0}, 'nta ': {'l': 1.0}, 'ta l': {'e': 1.0}, 'a le': {'k': 1.0}, ' lek': {'a': 1.0}, 'leka': {'r': 1.0}, 'ekar': {' ': 0.8, '.': 0.2}, 'kar ': {'j': 1.0}, 'ar j': {'a': 1.0}, 'r ja': {'a': 1.0}, ' jaa': {'y': 1.0}, 'jaay': {'e': 1.0}, 'a\\nap': {'n': 1.0}, '\\napn': {'a': 1.0}, 'ga x': {' ': 1.0}, 'a x ': {'(': 1.0}, ' x (': {'2': 1.0}, 'x (2': {')': 1.0}, ' (2)': {'\\n': 1.0}, '(2)\\n': {' ': 1.0}, '2)\\n ': {'\\n': 1.0}, ')\\n \\n': {'t': 1.0}, 'kar.': {'.': 1.0}, 'ar..': {'\\n': 1.0}, 'r..\\n': {' ': 1.0}, '..\\n ': {'\\n': 1.0}, '.\\n \\n': {'k': 1.0}, ' \\nki': {'s': 1.0}, '\\nkis': {'s': 1.0}, 'kiss': {'i': 1.0}, 'issi': {' ': 1.0}, 'ssi ': {'k': 1.0}, 'si k': {'a': 1.0}, 'i ka': {' ': 1.0}, 'ka h': {'a': 1.0}, ' hat': {'h': 1.0}, 'hath': {' ': 1.0}, 'ath ': {'n': 1.0}, 'th n': {'a': 1.0}, 'h na': {'h': 0.3333333333333333, 'i': 0.6666666666666666}, 'i th': {'a': 1.0}, ' tha': {' ': 1.0}, 'tha ': {'s': 1.0}, 'ha s': {'a': 1.0}, 'a sa': {'r': 1.0}, 'ar p': {'a': 1.0}, 'r pa': {'r': 1.0}, 'par\\n': {'y': 1.0}, 'ar\\ny': {'a': 1.0}, 'r\\nya': {'h': 1.0}, '\\nyah': {'a': 1.0}, 'yaha': {'a': 1.0}, 'ahaa': {'n': 1.0}, 'aan ': {'p': 0.5, 'm': 0.5}, 'n pa': {'r': 1.0}, 'par ': {'a': 1.0}, 'ar a': {'a': 1.0}, 'r aa': {'y': 1.0}, 'ya k': {'h': 1.0}, ' khu': {'d': 1.0}, 'khud': {' ': 1.0}, 'hud ': {'k': 1.0}, 'ud k': {'i': 1.0}, 'd ki': {' ': 1.0}, 'ki m': {'e': 1.0}, 'i me': {'h': 1.0}, ' meh': {'n': 1.0}, 'mehn': {'a': 1.0}, 'ehna': {'t': 1.0}, 'hnat': {' ': 1.0}, 'nat ': {'s': 0.5, 'k': 0.5}, 'at s': {'e': 1.0}, 't se': {' ': 1.0}, 'se m': {'a': 1.0}, 'e ma': {'i': 1.0}, ' mai': {'n': 1.0}, 'main': {'\\n': 1.0}, 'ain\\n': {'j': 1.0}, 'in\\nj': {'i': 1.0}, 'n\\nji': {'t': 1.0}, 'itni': {' ': 1.0}, 'tni ': {'t': 0.5, 'r': 0.5}, 'ni t': {'a': 1.0}, 'i ta': {'a': 1.0}, ' taa': {'k': 1.0}, 'taak': {'a': 1.0}, 'aaka': {'t': 1.0}, 'akat': {' ': 1.0}, 'kat ': {'k': 0.6, 'n': 0.2, 'd': 0.2}, 'at k': {'i': 1.0}, 't ki': {'s': 0.09090909090909091, ' ': 0.36363636363636365, '\\n': 0.36363636363636365, ',': 0.18181818181818182}, ' kis': {'m': 1.0}, 'kism': {'a': 1.0}, 'isma': {'t': 1.0}, 'smat': {' ': 1.0}, 'mat ': {'m': 0.6666666666666666, 'n': 0.3333333333333333}, 'at m': {'e': 1.0}, 't me': {'i': 1.0}, 'ein ': {'n': 0.5, 'h': 0.5}, 'in n': {'a': 1.0}, 'n na': {'h': 1.0}, 'ahi\\n': {'u': 1.0}, 'hi\\nu': {'t': 1.0}, 'i\\nut': {'n': 1.0}, 'utni': {' ': 1.0}, 'i re': {'h': 1.0}, ' reh': {'m': 1.0}, 'rehm': {'a': 1.0}, 'ehma': {'t': 1.0}, 'hmat': {' ': 1.0}, 'in h': {'a': 1.0}, 'n ha': {'i': 1.0}, 'ai\\np': {'h': 1.0}, 'i\\nph': {'i': 1.0}, '\\nphi': {'r': 1.0}, 'phir': {' ': 1.0}, 'hir ': {'b': 1.0}, 'ir b': {'h': 1.0}, 'r bh': {'i': 1.0}, 'hi l': {'a': 1.0}, 'i la': {'d': 1.0}, ' lad': {'k': 1.0}, 'ladk': {'a': 1.0}, 'adka': {' ': 1.0}, 'dka ': {'s': 1.0}, 'ka s': {'e': 1.0}, 'a se': {'h': 1.0}, ' seh': {'m': 1.0}, 'sehm': {'a': 1.0}, 'at n': {'a': 0.6666666666666666, 'e': 0.3333333333333333}, 't na': {'h': 1.0}, 'ahin': {' ': 1.0}, 'hin ': {'h': 1.0}, 'ki h': {'a': 1.0}, 'hair': {'a': 1.0}, 'aira': {'t': 1.0}, 'irat': {' ': 1.0}, 'rat ': {'n': 0.25, 'y': 0.25, 'k': 0.5}, 'ai\\nz': {'a': 1.0}, 'i\\nza': {'r': 1.0}, '\\nzar': {'o': 1.0}, 'zaro': {'o': 1.0}, 'aroo': {'r': 1.0}, 'roor': {'a': 1.0}, 'oora': {'t': 1.0}, 'orat': {' ': 1.0}, 'at y': {'a': 0.5, 'e': 0.5}, 't ya': {'h': 1.0}, ' yah': {'a': 1.0}, 'an m': {'a': 1.0}, 'n ma': {'r': 1.0}, ' mar': {'z': 1.0}, 'marz': {'i': 1.0}, 'arzi': {' ': 1.0}, 'rzi ': {'k': 1.0}, 'zi k': {'i': 1.0}, 'i ki': {'\\n': 1.0}, 'i\\nau': {'r': 1.0}, '\\naur': {' ': 1.0}, 'aur ': {'j': 1.0}, 'ur j': {'u': 1.0}, 'r ju': {'r': 1.0}, ' jur': {'r': 1.0}, 'jurr': {'a': 1.0}, 'urra': {'t': 1.0}, 'rrat': {' ': 1.0}, 'ai\\n ': {'\\n': 1.0}, 'i\\n \\n': {'t': 0.5, 'i': 0.5}, ' \\nta': {'a': 1.0}, '\\ntaa': {'k': 1.0}, 'hai,': {' ': 1.0}, 'ai, ': {'a': 1.0}, 'i, a': {'a': 0.5, 'm': 0.5}, ', aa': {'f': 1.0}, ' aaf': {'a': 1.0}, 'aafa': {'t': 1.0}, 'afat': {' ': 1.0}, 'fat ': {'k': 1.0}, 'ki\\nh': {'i': 1.0}, 'i\\nhi': {'m': 1.0}, '\\nhim': {'a': 1.0}, 'hima': {'a': 1.0}, 'imaa': {'k': 1.0}, 'maak': {'a': 1.0}, ' ki,': {' ': 1.0}, 'ki, ': {'i': 0.5, 'a': 0.5}, 'i, i': {'b': 1.0}, ', ib': {'a': 1.0}, ' iba': {'a': 1.0}, 'ibaa': {'d': 1.0}, 'baad': {'a': 1.0}, 'aada': {'t': 1.0}, 'adat': {' ': 1.0}, 'dat ': {'k': 1.0}, 'i\\nad': {'a': 1.0}, '\\nada': {'l': 1.0}, 'adal': {'a': 1.0}, 'dala': {'t': 1.0}, 'alat': {' ': 1.0}, 'lat ': {'y': 1.0}, 't ye': {'h': 1.0}, ' yeh': {' ': 1.0}, 'eh h': {'a': 1.0}, 'h ha': {'i': 1.0}, 'ai c': {'h': 1.0}, ' cha': {'h': 1.0}, 'chah': {'a': 1.0}, 'haha': {'t': 1.0}, 'ahat': {' ': 1.0}, 'hat ': {'k': 1.0}, 'ki\\nm': {'o': 1.0}, 'i\\nmo': {'h': 1.0}, '\\nmoh': {'o': 1.0}, 'moho': {'b': 1.0}, 'ohob': {'b': 1.0}, 'hobb': {'a': 1.0}, 'obba': {'t': 1.0}, 'bbat': {' ': 1.0}, 'bat ': {'k': 1.0}, ', am': {'a': 1.0}, ' ama': {'a': 1.0}, 'amaa': {'n': 1.0}, 'maan': {'a': 1.0}, 'anat': {' ': 1.0}, 'ki\\nj': {'e': 1.0}, 'i\\nje': {'e': 1.0}, '\\njee': {'t': 1.0}, 'jeet': {'n': 1.0}, 'eetn': {'e': 1.0}, 'etne': {' ': 1.0}, 'tne ': {'k': 1.0}, 'i ab': {' ': 1.0}, 'ab a': {'a': 1.0}, 'b aa': {'d': 1.0}, ' aad': {'a': 1.0}, 'ai\\ns': {'h': 1.0}, 'i\\nsh': {'o': 1.0}, '\\nsho': {'h': 1.0}, 'shoh': {'r': 1.0}, 'hohr': {'a': 1.0}, 'ohra': {'t': 1.0}, 'hrat': {' ': 1.0}, 'ab l': {'a': 1.0}, 'b la': {'a': 1.0}, ' laa': {'l': 1.0}, 'laal': {'a': 1.0}, 'aala': {'c': 1.0}, 'alac': {'h': 1.0}, 'lach': {' ': 1.0}, 'ach ': {'n': 1.0}, 'ch n': {'a': 1.0}, ' nai': {' ': 1.0}, 'nai ': {'h': 1.0}, 'ai h': {'a': 1.0}, 'ai\\nt': {'e': 1.0}, 'i\\nte': {'r': 1.0}, '\\nter': {'e': 1.0}, 'tere': {' ': 1.0}, 're b': {'h': 1.0}, 'e bh': {'a': 1.0}, ' bha': {'i': 1.0}, 'bhai': {' ': 1.0}, 'ai j': {'a': 1.0}, 'i ja': {'i': 1.0}, 'sa k': {'o': 1.0}, 'a ko': {'y': 1.0}, ' koy': {'i': 1.0}, 'koyi': {' ': 1.0}, 'oyi ': {'h': 1.0}, 'yi h': {'a': 1.0}, ' har': {'d': 0.5, 'k': 0.5}, 'hard': {'’': 1.0}, 'ard’': {'c': 1.0}, 'rd’c': {'h': 1.0}, 'd’ch': {' ': 1.0}, '’ch ': {'n': 1.0}, '\\n \\ni': {'s': 1.0}, ' \\nis': {'s': 1.0}, '\\niss': {' ': 1.0}, 'iss ': {'h': 1.0}, 'ss h': {'a': 1.0}, 's ha': {'r': 1.0}, 'hark': {'a': 1.0}, 'arka': {'t': 1.0}, 'rkat': {' ': 1.0}, 't ne': {' ': 1.0}, ' ne ': {'h': 1.0}, 'ne h': {'i': 1.0}, 'e hi': {' ': 1.0}, 'hi b': {'a': 1.0}, 'i ba': {'r': 1.0}, ' bar': {'k': 1.0}, 'bark': {'a': 1.0}, 'at d': {'i': 1.0}, 't di': {' ': 1.0}, ' di ': {'h': 1.0}, 'di h': {'a': 1.0}, 'yon?': {'\\n': 1.0}, 'on?\\n': {' ': 1.0}, 'n?\\n ': {'\\n': 1.0}, '?\\n \\n': {'t': 1.0}, 'ga\\nk': {'y': 1.0}, 'a\\nky': {'a': 1.0}, 'ya t': {'u': 1.0}, 'a tu': {' ': 1.0}, 'tu g': {'h': 1.0}, 'u gh': {'a': 1.0}}\n"
     ]
    }
   ],
   "source": [
    "model = train(text,4)\n",
    "print(model)"
   ]
  },
  {
   "cell_type": "markdown",
   "metadata": {},
   "source": [
    "#### Generating Lyrics"
   ]
  },
  {
   "cell_type": "code",
   "execution_count": 6,
   "metadata": {},
   "outputs": [],
   "source": [
    "import numpy as np\n",
    "np.random.seed(11)"
   ]
  },
  {
   "cell_type": "code",
   "execution_count": 7,
   "metadata": {},
   "outputs": [],
   "source": [
    "def sample_next(ctx,T,k):\n",
    "    ctx = ctx[-k:]\n",
    "    if T.get(ctx) is None:\n",
    "        return ' '\n",
    "    possible_chars = list(T[ctx].keys())\n",
    "    possible_probs = list(T[ctx].values())\n",
    "    return np.random.choice(possible_chars,p=possible_probs)\n",
    "\n",
    "def generate_lyrics(start,k=4,maxLen=2000):\n",
    "    sentence = start\n",
    "    ctx = start[-k:]\n",
    "    for ix in range(maxLen):\n",
    "        next_pred = sample_next(ctx,model,k)\n",
    "        sentence += next_pred\n",
    "        ctx = sentence[-k:]\n",
    "    return sentence"
   ]
  },
  {
   "cell_type": "code",
   "execution_count": 8,
   "metadata": {},
   "outputs": [
    {
     "name": "stdout",
     "output_type": "stream",
     "text": [
      "apna time aaya hath nahi\n",
      "utna hi to aaya hai seene se\n",
      "matlab bana lala\n",
      "mere bhai tu\n",
      "utna time aaya hai\n",
      "phir bhi satayega\n",
      "zinda mera khud ki hai, amaana lala\n",
      "tujhe na mila paseene se jeenenge\n",
      "sab kuchh mil payega\n",
      "jitni rehmat mein\n",
      "har raakh se\n",
      "tu nanga hi to khauf nahin hai jaisa koyi hai seene mein nahi hai\n",
      "kyon ki ab laalach nai hai\n",
      "kya ghanta lekar jaayega\n",
      "kya tu dafnayega\n",
      "apna time aayega\n",
      "kya tu ghanta lekar..\n",
      " \n",
      "kyon\n",
      "kyon ka hai\n",
      "kya ghanta lekar jaayega\n",
      "apna time aayega\n",
      "zinda mera khwaab hai chheene mein\n",
      " \n",
      "kyon ki hai jaisa shaan pighlayega\n",
      "jitni taakat ne hi barkat ki mehnat ki, amaana ab talaash mein\n",
      "parwane ki hai\n",
      "jo darr ko bhi ladka sehmat mein nahi\n",
      "utna hi to khaayega\n",
      " \n",
      "yeh shabdon ka hai\n",
      "zaroorat ki\n",
      "himaakat di hairat ki, ibaadat ki hai\n",
      "kya ghanta lekar jaayega\n",
      "apna time aayega\n",
      " \n",
      "tu nanga hi barkat ki\n",
      "adalat yahaan par\n",
      "yahaan marzi ki\n",
      "jeetne ki\n",
      "jeetne ki mehnat se main\n",
      "jitna hi to aayega\n",
      " \n",
      "ab hai\n",
      "kya tu dafnayega\n",
      "mere jaisa mera khud ki hai\n",
      "kya ghanta lekar jaayega\n",
      "kya tu ghanta lekar..\n",
      " \n",
      "kissi ka hai\n",
      "kya ghanta lekar..\n",
      " \n",
      "kissi ka jwala\n",
      "meri bediyan parwaaz dekh par aaya hai\n",
      "kya ghanta lekar jaayega\n",
      "aayega\n",
      "apna time aayega\n",
      "aayega\n",
      "apna time aaya hath nai hai\n",
      "zaroorat ki\n",
      "mohobbat ki, aafat ki hai jaisa shaanat ki\n",
      "aur jurrat yahaan marzi ki\n",
      "adalat yeh shabdon ki ab aadat ki apna time aaya khwaab\n",
      "ab kaise tu ghanta lekar jaayega\n",
      "uth ja ab jeene mein hai\n",
      "phir bhi sar uthayega\n",
      " \n",
      "taakat ki\n",
      "himaakat ki mehnat se main\n",
      "jitna time aayega\n",
      "apna time aayega\n",
      "apna time aaya hai\n",
      " \n",
      "iss hard’ch nai hai\n",
      "kyon\n",
      "kyon\n",
      "kyon\n",
      "kyon ki mehnat se main\n",
      "jitna time aayega\n",
      "apna toone boya hai\n",
      "kyon ka jwala\n",
      "mere jaisa shaan pighlayega\n",
      "zinda mera khud ki ab talaash mein\n",
      "parwaaz dekh par\n",
      "yahaan pighlayega\n",
      "apna time aayega\n",
      " \n",
      "ab kuchh mil payega\n",
      "aisa mera khwaab\n",
      "ab kuchh mila paseene mein hai\n",
      "shohrat ki ab aadat ki\n",
      "adalat yahaana ab aadat ki\n",
      "mohobbat ki apna time aayega\n",
      "zinda mera khwaab hausle se main\n",
      "jitni taakat ne hi tha sar uthayega\n",
      "meri bediyan pighlayega\n",
      " \n",
      "tu nanga hi to aaya hai\n",
      "phir bhi lad\n"
     ]
    }
   ],
   "source": [
    "lyrics = generate_lyrics('apna',k=4,maxLen=2000)\n",
    "print(lyrics)"
   ]
  },
  {
   "cell_type": "markdown",
   "metadata": {},
   "source": [
    "#### Saving the Lyrics"
   ]
  },
  {
   "cell_type": "code",
   "execution_count": 9,
   "metadata": {},
   "outputs": [],
   "source": [
    "with open('generated_lyrics.txt',encoding='UTF-8',mode='w') as f:\n",
    "    f.writelines(lyrics)"
   ]
  }
 ],
 "metadata": {
  "kernelspec": {
   "display_name": "Python 3",
   "language": "python",
   "name": "python3"
  },
  "language_info": {
   "codemirror_mode": {
    "name": "ipython",
    "version": 3
   },
   "file_extension": ".py",
   "mimetype": "text/x-python",
   "name": "python",
   "nbconvert_exporter": "python",
   "pygments_lexer": "ipython3",
   "version": "3.6.9"
  }
 },
 "nbformat": 4,
 "nbformat_minor": 2
}
