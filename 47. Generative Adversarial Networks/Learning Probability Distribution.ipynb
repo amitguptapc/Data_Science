{
  "nbformat": 4,
  "nbformat_minor": 0,
  "metadata": {
    "colab": {
      "name": "Learning Probability Distribution.ipynb",
      "provenance": []
    },
    "kernelspec": {
      "name": "python3",
      "display_name": "Python 3"
    }
  },
  "cells": [
    {
      "cell_type": "code",
      "metadata": {
        "id": "lLoZYr-fVuZo",
        "colab_type": "code",
        "colab": {}
      },
      "source": [
        "import numpy as np\n",
        "import matplotlib.pyplot as plt\n",
        "plt.style.use('seaborn')"
      ],
      "execution_count": 0,
      "outputs": []
    },
    {
      "cell_type": "code",
      "metadata": {
        "id": "Gm72Kzt0V54Q",
        "colab_type": "code",
        "colab": {}
      },
      "source": [
        "Physics = np.round(np.random.randn(500)*5+80)\n",
        "Maths = np.round(np.random.randn(500)*10+40)"
      ],
      "execution_count": 0,
      "outputs": []
    },
    {
      "cell_type": "code",
      "metadata": {
        "id": "2aJhLXP2Wacg",
        "colab_type": "code",
        "colab": {
          "base_uri": "https://localhost:8080/",
          "height": 493
        },
        "outputId": "dc06cdf5-529c-4ca0-bc48-cd782d30d048"
      },
      "source": [
        "print(Maths)"
      ],
      "execution_count": 30,
      "outputs": [
        {
          "output_type": "stream",
          "text": [
            "[37. 40. 59. 49. 55. 47. 58. 41. 47. 20. 13. 38. 39. 13. 31. 31. 37. 74.\n",
            " 20. 32. 37. 49. 15. 27. 40. 38. 46. 36. 27. 33. 39. 50. 30. 41. 57. 19.\n",
            " 37. 29. 31. 39. 48. 33. 41. 56. 52. 32. 34. 61. 35. 48. 47. 42. 46. 50.\n",
            " 41. 38. 52. 62. 45. 18. 28. 38. 49. 37. 32. 53. 43. 45. 30. 46. 28. 40.\n",
            " 33. 27. 43. 55. 34. 24. 27. 18. 35. 27. 30. 28. 34. 45. 27. 32. 40. 51.\n",
            " 22. 55. 29. 44. 50. 30. 65. 29. 40. 25. 39. 40. 58. 35. 32. 45. 29. 37.\n",
            " 52. 21. 44. 48. 35. 28. 32. 60. 27. 43. 31. 41. 63. 49. 37. 42. 24. 42.\n",
            " 41. 46. 44. 51. 40. 36. 48. 41. 37. 36. 47. 42. 27. 54. 25. 32. 35. 42.\n",
            " 52. 32. 43. 42. 33. 30. 56. 39. 54. 39. 50. 25. 28. 43. 38. 28. 41. 45.\n",
            " 50. 50. 54. 39. 41. 22. 54. 45. 45. 49. 55. 27. 54. 39. 42. 62. 46. 35.\n",
            " 40. 43. 54. 47. 36. 43. 36. 50. 53. 41. 51. 48. 38. 39. 58. 42. 43. 34.\n",
            " 40. 52. 38. 43. 37. 49. 40. 45. 40. 59. 42. 45. 54. 23. 43. 19. 44. 49.\n",
            " 13. 46. 57. 35. 52. 31. 47. 44. 29. 46. 46. 43. 39. 34. 52. 68. 29. 33.\n",
            " 48. 20. 46. 38. 47. 41. 43. 37. 28. 41. 50. 65.  8. 58. 19. 42. 55. 45.\n",
            " 75. 57. 38. 40. 45. 28. 52. 29. 36. 51. 45. 36. 43. 47. 43. 36. 34. 49.\n",
            " 45. 43. 52. 48. 40. 36. 42. 31. 53. 34. 39. 55. 34. 42. 32. 39. 35. 42.\n",
            " 58. 45. 38. 34. 40. 51. 38. 47. 24. 33. 60. 37. 39. 64. 50. 38. 34. 31.\n",
            " 38. 38. 39. 53. 23. 15. 29. 55. 47. 42. 41. 39. 48. 53. 25. 44. 26. 40.\n",
            " 37. 45. 44. 32. 33. 47. 38. 57. 59. 34. 36. 48. 47. 42. 30. 57. 28. 44.\n",
            " 39. 57. 47. 34. 43. 38. 32. 30. 38. 60. 26. 38. 31. 65. 47. 49. 49. 33.\n",
            " 54. 30. 33. 51. 38. 52. 42. 40. 29. 34. 39. 40. 30. 47. 44. 37. 35. 29.\n",
            " 53. 33. 29. 42. 36. 35. 41. 28. 31. 24. 46. 56. 40. 52. 33. 55. 32. 25.\n",
            " 17. 33. 34. 68. 38. 46. 27. 36. 40. 25. 33. 34. 46. 64. 43. 47. 37. 26.\n",
            " 28. 50. 53. 42. 42. 37. 38. 36. 48. 27. 41. 43. 25. 22. 44. 42. 33. 45.\n",
            " 37. 36. 49. 53. 48. 53. 30. 22. 34. 45. 31. 24. 23. 29. 43. 30. 50. 25.\n",
            " 13. 39. 29. 31. 35. 38. 53. 28. 11. 52. 48. 34. 48. 38. 30. 45. 46. 55.\n",
            " 37. 40. 16. 35. 27. 35. 31. 53. 39. 42. 38. 42. 43. 38. 37. 47. 37. 42.\n",
            " 26. 31. 46. 49. 36. 63. 33. 38. 27. 48. 46. 49. 34. 21.]\n"
          ],
          "name": "stdout"
        }
      ]
    },
    {
      "cell_type": "code",
      "metadata": {
        "id": "zEpx_OCDWgp_",
        "colab_type": "code",
        "colab": {
          "base_uri": "https://localhost:8080/",
          "height": 493
        },
        "outputId": "95b9ebc1-9b18-4f1e-e9e5-d98a62793f6c"
      },
      "source": [
        "print(Physics)"
      ],
      "execution_count": 31,
      "outputs": [
        {
          "output_type": "stream",
          "text": [
            "[75. 71. 85. 76. 69. 79. 74. 79. 85. 74. 76. 75. 83. 86. 77. 81. 78. 78.\n",
            " 80. 87. 76. 82. 82. 78. 74. 79. 73. 80. 80. 81. 78. 80. 85. 84. 82. 76.\n",
            " 75. 90. 69. 87. 82. 76. 71. 78. 83. 79. 79. 77. 73. 85. 70. 82. 77. 83.\n",
            " 83. 80. 69. 87. 72. 85. 88. 80. 73. 82. 77. 78. 77. 75. 82. 71. 86. 78.\n",
            " 79. 79. 76. 85. 78. 77. 73. 92. 78. 82. 77. 80. 75. 83. 83. 81. 88. 84.\n",
            " 76. 75. 86. 75. 77. 89. 82. 89. 90. 85. 85. 87. 80. 80. 74. 88. 79. 80.\n",
            " 79. 81. 82. 83. 81. 77. 83. 84. 86. 84. 77. 84. 79. 70. 88. 77. 84. 84.\n",
            " 76. 78. 80. 74. 80. 77. 84. 75. 78. 78. 80. 76. 79. 81. 75. 78. 76. 80.\n",
            " 78. 73. 74. 81. 70. 69. 76. 81. 76. 83. 78. 76. 70. 88. 89. 78. 72. 73.\n",
            " 84. 80. 81. 83. 72. 84. 84. 79. 81. 75. 81. 84. 78. 75. 86. 78. 82. 76.\n",
            " 79. 69. 77. 81. 80. 89. 80. 83. 75. 78. 79. 78. 76. 82. 82. 73. 81. 81.\n",
            " 77. 82. 88. 75. 80. 79. 82. 84. 87. 79. 77. 89. 88. 94. 84. 81. 76. 80.\n",
            " 79. 79. 78. 84. 84. 79. 75. 82. 78. 79. 83. 81. 80. 79. 80. 73. 84. 81.\n",
            " 81. 72. 83. 75. 79. 80. 88. 74. 71. 81. 83. 81. 91. 81. 81. 79. 85. 77.\n",
            " 85. 84. 79. 77. 78. 86. 77. 72. 84. 80. 80. 77. 83. 84. 76. 83. 87. 78.\n",
            " 74. 71. 81. 82. 80. 82. 82. 75. 69. 83. 78. 69. 79. 86. 87. 80. 75. 71.\n",
            " 77. 87. 91. 72. 79. 77. 83. 84. 88. 87. 85. 80. 82. 77. 76. 76. 82. 77.\n",
            " 73. 72. 78. 79. 75. 90. 83. 75. 82. 88. 81. 83. 82. 78. 82. 72. 85. 89.\n",
            " 80. 80. 72. 76. 81. 81. 76. 82. 73. 75. 69. 80. 85. 79. 85. 76. 76. 79.\n",
            " 82. 71. 79. 81. 76. 82. 75. 78. 71. 76. 83. 80. 75. 81. 82. 78. 83. 78.\n",
            " 81. 72. 76. 77. 82. 74. 84. 86. 87. 83. 80. 82. 81. 84. 71. 81. 87. 69.\n",
            " 73. 75. 76. 89. 94. 83. 81. 71. 80. 86. 80. 81. 90. 75. 81. 81. 63. 84.\n",
            " 80. 76. 74. 71. 79. 88. 80. 83. 80. 80. 84. 75. 79. 73. 73. 81. 84. 80.\n",
            " 76. 79. 84. 80. 82. 85. 85. 77. 89. 83. 71. 78. 76. 80. 85. 82. 80. 76.\n",
            " 86. 82. 79. 84. 84. 80. 84. 73. 81. 83. 81. 87. 76. 87. 80. 85. 70. 84.\n",
            " 87. 86. 80. 82. 80. 79. 78. 73. 80. 71. 76. 81. 76. 80. 81. 83. 84. 77.\n",
            " 75. 87. 76. 77. 84. 83. 79. 78. 84. 80. 74. 84. 79. 85. 78. 80. 77. 79.\n",
            " 79. 80. 74. 72. 86. 72. 77. 80. 70. 83. 81. 85. 71. 79.]\n"
          ],
          "name": "stdout"
        }
      ]
    },
    {
      "cell_type": "code",
      "metadata": {
        "id": "CMmY43A8WjLd",
        "colab_type": "code",
        "colab": {
          "base_uri": "https://localhost:8080/",
          "height": 362
        },
        "outputId": "faff09d2-b559-4069-b1aa-1e82d81d9674"
      },
      "source": [
        "plt.hist(Physics,label='Physics')\n",
        "plt.hist(Maths,alpha=0.8,label='Maths')\n",
        "plt.legend()\n",
        "plt.title('Marks Distribution')\n",
        "plt.show()"
      ],
      "execution_count": 36,
      "outputs": [
        {
          "output_type": "display_data",
          "data": {
            "image/png": "[encoded data removed]",
            "text/plain": [
              "<Figure size 576x396 with 1 Axes>"
            ]
          },
          "metadata": {
            "tags": []
          }
        }
      ]
    },
    {
      "cell_type": "code",
      "metadata": {
        "id": "kTBiBOV-XDkY",
        "colab_type": "code",
        "colab": {}
      },
      "source": [
        ""
      ],
      "execution_count": 0,
      "outputs": []
    }
  ]
}