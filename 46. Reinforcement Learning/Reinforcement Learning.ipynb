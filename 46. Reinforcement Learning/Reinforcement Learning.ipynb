{
 "cells": [
  {
   "cell_type": "markdown",
   "metadata": {},
   "source": [
    "### Reinforcement Learning"
   ]
  },
  {
   "cell_type": "markdown",
   "metadata": {},
   "source": [
    "#### Interacting with Gym API"
   ]
  },
  {
   "cell_type": "code",
   "execution_count": 1,
   "metadata": {},
   "outputs": [],
   "source": [
    "import gym"
   ]
  },
  {
   "cell_type": "code",
   "execution_count": 2,
   "metadata": {},
   "outputs": [
    {
     "name": "stderr",
     "output_type": "stream",
     "text": [
      "/home/amit/.local/lib/python3.6/site-packages/gym/logger.py:30: UserWarning: \u001b[33mWARN: Box bound precision lowered by casting to float32\u001b[0m\n",
      "  warnings.warn(colorize('%s: %s'%('WARN', msg % args), 'yellow'))\n"
     ]
    }
   ],
   "source": [
    "# Creating Environment\n",
    "env = gym.make('CartPole-v0')"
   ]
  },
  {
   "cell_type": "markdown",
   "metadata": {},
   "source": [
    "**Methods & Attributes in Environment :**\n",
    "- action_space\n",
    "- observation_space\n",
    "- reset() : returns init state and also resets the environment\n",
    "- step()\n",
    "- render()\n",
    "- close()"
   ]
  },
  {
   "cell_type": "code",
   "execution_count": 3,
   "metadata": {},
   "outputs": [
    {
     "data": {
      "text/plain": [
       "array([-0.01056342,  0.01717044,  0.0404181 , -0.04790671])"
      ]
     },
     "execution_count": 3,
     "metadata": {},
     "output_type": "execute_result"
    }
   ],
   "source": [
    "env.reset()"
   ]
  },
  {
   "cell_type": "code",
   "execution_count": 4,
   "metadata": {},
   "outputs": [
    {
     "data": {
      "text/plain": [
       "Discrete(2)"
      ]
     },
     "execution_count": 4,
     "metadata": {},
     "output_type": "execute_result"
    }
   ],
   "source": [
    "env.action_space"
   ]
  },
  {
   "cell_type": "code",
   "execution_count": 5,
   "metadata": {},
   "outputs": [
    {
     "data": {
      "text/plain": [
       "Box(4,)"
      ]
     },
     "execution_count": 5,
     "metadata": {},
     "output_type": "execute_result"
    }
   ],
   "source": [
    "env.observation_space"
   ]
  },
  {
   "cell_type": "code",
   "execution_count": 6,
   "metadata": {},
   "outputs": [
    {
     "name": "stderr",
     "output_type": "stream",
     "text": [
      "/home/amit/.local/lib/python3.6/site-packages/gym/logger.py:30: UserWarning: \u001b[33mWARN: You are calling 'step()' even though this environment has already returned done = True. You should always call 'reset()' once you receive 'done = True' -- any further steps are undefined behavior.\u001b[0m\n",
      "  warnings.warn(colorize('%s: %s'%('WARN', msg % args), 'yellow'))\n"
     ]
    }
   ],
   "source": [
    "for t in range(1000):\n",
    "    random_action = env.action_space.sample()\n",
    "    env.step(random_action) # Randomly move left or right\n",
    "    env.render()\n",
    "env.close()"
   ]
  },
  {
   "cell_type": "markdown",
   "metadata": {},
   "source": [
    "#### Playing games with Random Strategy"
   ]
  },
  {
   "cell_type": "code",
   "execution_count": 7,
   "metadata": {},
   "outputs": [
    {
     "name": "stdout",
     "output_type": "stream",
     "text": [
      "Game Episode : 1/20 High score : 12 \n",
      "Game Episode : 2/20 High score : 8 \n",
      "Game Episode : 3/20 High score : 28 \n",
      "Game Episode : 4/20 High score : 30 \n",
      "Game Episode : 6/20 High score : 20 \n",
      "Game Episode : 7/20 High score : 14 \n",
      "Game Episode : 8/20 High score : 13 \n",
      "Game Episode : 9/20 High score : 19 \n",
      "Game Episode : 10/20 High score : 14 \n",
      "Game Episode : 11/20 High score : 11 \n",
      "Game Episode : 12/20 High score : 28 \n",
      "Game Episode : 13/20 High score : 25 \n",
      "Game Episode : 14/20 High score : 28 \n",
      "Game Episode : 15/20 High score : 13 \n",
      "Game Episode : 16/20 High score : 14 \n",
      "Game Episode : 17/20 High score : 27 \n",
      "Game Episode : 18/20 High score : 37 \n",
      "Game Episode : 19/20 High score : 18 \n",
      "Game Episode : 20/20 High score : 17 \n",
      "All Episodes are over\n"
     ]
    }
   ],
   "source": [
    "for e in range(20):\n",
    "    observation = env.reset()\n",
    "    for t in range(50):\n",
    "        env.render()\n",
    "        action = env.action_space.sample()\n",
    "        observation,reward,done,other_info = env.step(action)\n",
    "        if done:\n",
    "            print(\"Game Episode : {}/{} High score : {} \".format(e+1,20,t))\n",
    "            break\n",
    "env.close()\n",
    "print('All Episodes are over')"
   ]
  },
  {
   "cell_type": "markdown",
   "metadata": {},
   "source": [
    "#### Q-Learning\n",
    "##### Designing an AI Agent"
   ]
  },
  {
   "cell_type": "code",
   "execution_count": 12,
   "metadata": {},
   "outputs": [],
   "source": [
    "import numpy as np\n",
    "from collections import deque\n",
    "from keras.models import Sequential\n",
    "from keras.layers import Dense\n",
    "from keras.optimizers import Adam\n",
    "import random"
   ]
  },
  {
   "cell_type": "code",
   "execution_count": 9,
   "metadata": {},
   "outputs": [],
   "source": [
    "class Agent:\n",
    "    def __init__(self,state_size,action_size):\n",
    "        self.state_size = state_size\n",
    "        self.action_size = action_size\n",
    "        self.memory = deque(maxlen=2000)\n",
    "        self.gamma = 0.95 # Discount Factor\n",
    "        self.epsilon = 1.0 # Exploration Rate\n",
    "        self.epsilon_decay = 0.995\n",
    "        self.epsilon_min = 0.01\n",
    "        self.learning_rate = 0.001\n",
    "        self.model = self._create_model()\n",
    "    \n",
    "    def _create_model(self):\n",
    "        model = Sequential()\n",
    "        model.add(Dense(24,input_dim=self.state_size,activation='relu'))\n",
    "        model.add(Dense(24,activation='relu'))\n",
    "        model.add(Dense(self.action_size,activation='linear'))\n",
    "        model.compile(loss='mse',optimizer=Adam(lr=self.learning_rate))\n",
    "        return model\n",
    "    \n",
    "    def remember(self,state,action,reward,next_state,done):\n",
    "        self.memory.append((state,action,reward,next_state,done))\n",
    "        \n",
    "    def act(self,state):\n",
    "        if np.random.rand()<=self.epsilon: # Sampling according to Epsilon Greedy Method\n",
    "            return random.randrange(self.action_size) # Take random action\n",
    "        act_values = self.model.predict(state)\n",
    "        return np.argmax(act_values[0]) # Take action from neural network\n",
    "    \n",
    "    def train(self,batch_size=32): # Training using Replay Buffer\n",
    "        minibatch = random.sample(self.memory,batch_size)\n",
    "        for experience in minibatch:\n",
    "            state,action,reward,next_state,done = experience\n",
    "            if not done: # Game not over, Use Bellman Equation\n",
    "                target = reward + self.gamma*np.amax(self.model.predict(next_state)[0])\n",
    "            else:\n",
    "                target = reward\n",
    "            target_f = self.model.predict(state)\n",
    "            target_f[0][action] = target\n",
    "            self.model.fit(state,target_f,epochs=1,verbose=0)\n",
    "            if self.epsilon > self.epsilon_min:           \n",
    "                self.epsilon *= self.epsilon_decay\n",
    "        \n",
    "    def save(self,name): # To save the model\n",
    "        self.model.save_weights(name)\n",
    "    \n",
    "    def load(self,name): # To load the saved model\n",
    "        self.model.load_weights(name)"
   ]
  },
  {
   "cell_type": "markdown",
   "metadata": {},
   "source": [
    "#### Training the DQN Agent (Deep Q-Learner)"
   ]
  },
  {
   "cell_type": "code",
   "execution_count": 10,
   "metadata": {},
   "outputs": [],
   "source": [
    "n_episodes = 1000\n",
    "output_dir = 'cartpole_model/'\n",
    "agent = Agent(state_size=4,action_size=2)\n",
    "done = False\n",
    "state_size = 4\n",
    "action_size = 2"
   ]
  },
  {
   "cell_type": "code",
   "execution_count": 11,
   "metadata": {},
   "outputs": [
    {
     "name": "stdout",
     "output_type": "stream",
     "text": [
      "Game Episode : 0/1000 High score : 20 Exploration Rate : 1.0\n",
      "WARNING:tensorflow:From /home/amit/.local/lib/python3.6/site-packages/keras/backend/tensorflow_backend.py:422: The name tf.global_variables is deprecated. Please use tf.compat.v1.global_variables instead.\n",
      "\n",
      "Game Episode : 20/1000 High score : 27 Exploration Rate : 0.047\n",
      "Game Episode : 40/1000 High score : 11 Exploration Rate : 0.01\n",
      "Game Episode : 60/1000 High score : 26 Exploration Rate : 0.01\n",
      "Game Episode : 80/1000 High score : 10 Exploration Rate : 0.01\n",
      "Game Episode : 100/1000 High score : 9 Exploration Rate : 0.01\n",
      "Game Episode : 120/1000 High score : 37 Exploration Rate : 0.01\n",
      "Game Episode : 140/1000 High score : 28 Exploration Rate : 0.01\n",
      "Game Episode : 160/1000 High score : 57 Exploration Rate : 0.01\n",
      "Game Episode : 180/1000 High score : 38 Exploration Rate : 0.01\n",
      "Game Episode : 200/1000 High score : 34 Exploration Rate : 0.01\n",
      "Game Episode : 220/1000 High score : 45 Exploration Rate : 0.01\n",
      "Game Episode : 240/1000 High score : 58 Exploration Rate : 0.01\n",
      "Game Episode : 260/1000 High score : 149 Exploration Rate : 0.01\n",
      "Game Episode : 280/1000 High score : 112 Exploration Rate : 0.01\n",
      "Game Episode : 300/1000 High score : 158 Exploration Rate : 0.01\n",
      "Game Episode : 320/1000 High score : 74 Exploration Rate : 0.01\n",
      "Game Episode : 340/1000 High score : 78 Exploration Rate : 0.01\n",
      "Game Episode : 360/1000 High score : 83 Exploration Rate : 0.01\n",
      "Game Episode : 380/1000 High score : 151 Exploration Rate : 0.01\n",
      "Game Episode : 400/1000 High score : 199 Exploration Rate : 0.01\n",
      "Game Episode : 420/1000 High score : 18 Exploration Rate : 0.01\n",
      "Game Episode : 440/1000 High score : 129 Exploration Rate : 0.01\n",
      "Game Episode : 460/1000 High score : 149 Exploration Rate : 0.01\n",
      "Game Episode : 480/1000 High score : 148 Exploration Rate : 0.01\n",
      "Game Episode : 500/1000 High score : 192 Exploration Rate : 0.01\n",
      "Game Episode : 520/1000 High score : 199 Exploration Rate : 0.01\n",
      "Game Episode : 540/1000 High score : 199 Exploration Rate : 0.01\n",
      "Game Episode : 560/1000 High score : 111 Exploration Rate : 0.01\n",
      "Game Episode : 580/1000 High score : 80 Exploration Rate : 0.01\n",
      "Game Episode : 600/1000 High score : 146 Exploration Rate : 0.01\n",
      "Game Episode : 620/1000 High score : 84 Exploration Rate : 0.01\n",
      "Game Episode : 640/1000 High score : 154 Exploration Rate : 0.01\n",
      "Game Episode : 660/1000 High score : 174 Exploration Rate : 0.01\n",
      "Game Episode : 680/1000 High score : 137 Exploration Rate : 0.01\n",
      "Game Episode : 700/1000 High score : 31 Exploration Rate : 0.01\n",
      "Game Episode : 720/1000 High score : 179 Exploration Rate : 0.01\n",
      "Game Episode : 740/1000 High score : 188 Exploration Rate : 0.01\n",
      "Game Episode : 760/1000 High score : 184 Exploration Rate : 0.01\n",
      "Game Episode : 780/1000 High score : 142 Exploration Rate : 0.01\n",
      "Game Episode : 800/1000 High score : 199 Exploration Rate : 0.01\n",
      "Game Episode : 820/1000 High score : 199 Exploration Rate : 0.01\n",
      "Game Episode : 840/1000 High score : 199 Exploration Rate : 0.01\n",
      "Game Episode : 860/1000 High score : 113 Exploration Rate : 0.01\n",
      "Game Episode : 880/1000 High score : 199 Exploration Rate : 0.01\n",
      "Game Episode : 900/1000 High score : 199 Exploration Rate : 0.01\n",
      "Game Episode : 920/1000 High score : 199 Exploration Rate : 0.01\n",
      "Game Episode : 940/1000 High score : 163 Exploration Rate : 0.01\n",
      "Game Episode : 960/1000 High score : 166 Exploration Rate : 0.01\n",
      "Game Episode : 980/1000 High score : 172 Exploration Rate : 0.01\n"
     ]
    }
   ],
   "source": [
    "for e in range(n_episodes):\n",
    "    state = env.reset()\n",
    "    state = np.reshape(state,[1,state_size])\n",
    "    batch_size = 32\n",
    "    for time in range(500):\n",
    "        env.render()\n",
    "        action = agent.act(state)\n",
    "        next_state,reward,done,other_info = env.step(action)\n",
    "        reward = reward if not done else -10\n",
    "        next_state = np.reshape(next_state,[1,state_size])\n",
    "        agent.remember(state,action,reward,next_state,done)\n",
    "        state = next_state\n",
    "        if done:\n",
    "            if e%20==0:\n",
    "                print(\"Game Episode : {}/{} High score : {} Exploration Rate : {:.2}\".format(e,n_episodes,time,agent.epsilon))\n",
    "            break\n",
    "    if len(agent.memory)>batch_size:\n",
    "        agent.train(batch_size)\n",
    "    if e%50 == 0:\n",
    "        agent.save(output_dir+'weights_'+'{:04d}'.format(e)+\".hdf5\")\n",
    "env.close()"
   ]
  }
 ],
 "metadata": {
  "kernelspec": {
   "display_name": "Python 3",
   "language": "python",
   "name": "python3"
  },
  "language_info": {
   "codemirror_mode": {
    "name": "ipython",
    "version": 3
   },
   "file_extension": ".py",
   "mimetype": "text/x-python",
   "name": "python",
   "nbconvert_exporter": "python",
   "pygments_lexer": "ipython3",
   "version": "3.6.9"
  }
 },
 "nbformat": 4,
 "nbformat_minor": 2
}
