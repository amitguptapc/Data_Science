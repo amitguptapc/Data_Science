{
  "nbformat": 4,
  "nbformat_minor": 0,
  "metadata": {
    "kernelspec": {
      "name": "python3",
      "display_name": "Python 3"
    },
    "language_info": {
      "codemirror_mode": {
        "name": "ipython",
        "version": 3
      },
      "file_extension": ".py",
      "mimetype": "text/x-python",
      "name": "python",
      "nbconvert_exporter": "python",
      "pygments_lexer": "ipython3",
      "version": "3.6.9"
    },
    "colab": {
      "name": "CNN on MNIST.ipynb",
      "provenance": []
    },
    "accelerator": "GPU"
  },
  "cells": [
    {
      "cell_type": "markdown",
      "metadata": {
        "id": "ATTPRKKZ7dv_",
        "colab_type": "text"
      },
      "source": [
        "###  Convolutional Neural Network on MNIST"
      ]
    },
    {
      "cell_type": "code",
      "metadata": {
        "id": "S2vs-Ouk7dwE",
        "colab_type": "code",
        "colab": {}
      },
      "source": [
        "from keras.layers import *\n",
        "from keras.models import Sequential\n",
        "import matplotlib.pyplot as plt\n",
        "plt.style.use('seaborn')"
      ],
      "execution_count": 0,
      "outputs": []
    },
    {
      "cell_type": "markdown",
      "metadata": {
        "id": "kqvdbU7j7dwL",
        "colab_type": "text"
      },
      "source": [
        "#### Building the Model"
      ]
    },
    {
      "cell_type": "code",
      "metadata": {
        "id": "06BCbHpa7dwO",
        "colab_type": "code",
        "colab": {
          "base_uri": "https://localhost:8080/",
          "height": 425
        },
        "outputId": "9a06700c-0d1a-44ea-b260-77f463bfca57"
      },
      "source": [
        "model = Sequential()\n",
        "model.add(Conv2D(32,(3,3),activation='relu',input_shape=(28,28,1)))\n",
        "model.add(MaxPool2D((2,2)))\n",
        "model.add(Conv2D(64,(3,3),activation='relu'))\n",
        "model.add(MaxPool2D((2,2)))\n",
        "model.add(Conv2D(64,(3,3),activation='relu'))\n",
        "model.add(Flatten())\n",
        "model.add(Dense(64,activation='relu'))\n",
        "model.add(Dense(10,activation='softmax'))\n",
        "model.summary()"
      ],
      "execution_count": 13,
      "outputs": [
        {
          "output_type": "stream",
          "text": [
            "Model: \"sequential_2\"\n",
            "_________________________________________________________________\n",
            "Layer (type)                 Output Shape              Param #   \n",
            "=================================================================\n",
            "conv2d_4 (Conv2D)            (None, 26, 26, 32)        320       \n",
            "_________________________________________________________________\n",
            "max_pooling2d_3 (MaxPooling2 (None, 13, 13, 32)        0         \n",
            "_________________________________________________________________\n",
            "conv2d_5 (Conv2D)            (None, 11, 11, 64)        18496     \n",
            "_________________________________________________________________\n",
            "max_pooling2d_4 (MaxPooling2 (None, 5, 5, 64)          0         \n",
            "_________________________________________________________________\n",
            "conv2d_6 (Conv2D)            (None, 3, 3, 64)          36928     \n",
            "_________________________________________________________________\n",
            "flatten_2 (Flatten)          (None, 576)               0         \n",
            "_________________________________________________________________\n",
            "dense_3 (Dense)              (None, 64)                36928     \n",
            "_________________________________________________________________\n",
            "dense_4 (Dense)              (None, 10)                650       \n",
            "=================================================================\n",
            "Total params: 93,322\n",
            "Trainable params: 93,322\n",
            "Non-trainable params: 0\n",
            "_________________________________________________________________\n"
          ],
          "name": "stdout"
        }
      ]
    },
    {
      "cell_type": "markdown",
      "metadata": {
        "id": "039wh_sp7dwW",
        "colab_type": "text"
      },
      "source": [
        "#### Loading the Dataset"
      ]
    },
    {
      "cell_type": "code",
      "metadata": {
        "id": "YIpm7_ar7dwX",
        "colab_type": "code",
        "colab": {}
      },
      "source": [
        "from keras.datasets import mnist\n",
        "from keras.utils import to_categorical"
      ],
      "execution_count": 0,
      "outputs": []
    },
    {
      "cell_type": "code",
      "metadata": {
        "id": "bGfoyL5K7dwd",
        "colab_type": "code",
        "colab": {}
      },
      "source": [
        "(Xtrain,Ytrain),(Xtest,Ytest) = mnist.load_data()"
      ],
      "execution_count": 0,
      "outputs": []
    },
    {
      "cell_type": "code",
      "metadata": {
        "id": "ysR4XB-P7dwk",
        "colab_type": "code",
        "colab": {
          "base_uri": "https://localhost:8080/",
          "height": 51
        },
        "outputId": "172439fe-1221-43ef-d6cc-6bb970cd2fbb"
      },
      "source": [
        "def preprocess_data(X,Y):\n",
        "    X = X.reshape((-1,28,28,1))\n",
        "    X = X / 255.0\n",
        "    Y = to_categorical(Y)\n",
        "    return X,Y\n",
        "\n",
        "Xtrain,Ytrain = preprocess_data(Xtrain,Ytrain)\n",
        "Xtest,Ytest = preprocess_data(Xtest,Ytest)\n",
        "print(Xtrain.shape,Ytrain.shape)\n",
        "print(Xtest.shape,Ytest.shape)"
      ],
      "execution_count": 16,
      "outputs": [
        {
          "output_type": "stream",
          "text": [
            "(60000, 28, 28, 1) (60000, 10)\n",
            "(10000, 28, 28, 1) (10000, 10)\n"
          ],
          "name": "stdout"
        }
      ]
    },
    {
      "cell_type": "markdown",
      "metadata": {
        "id": "bnhyrXgh7dwq",
        "colab_type": "text"
      },
      "source": [
        "#### Model Compilation"
      ]
    },
    {
      "cell_type": "code",
      "metadata": {
        "id": "sqm5ZAG47dwt",
        "colab_type": "code",
        "colab": {
          "base_uri": "https://localhost:8080/",
          "height": 734
        },
        "outputId": "07020fac-3403-4fe5-f182-2b3678b9a142"
      },
      "source": [
        "model.compile(optimizer='adam',loss='categorical_crossentropy',metrics=['accuracy'])\n",
        "hist = model.fit(Xtrain,Ytrain,epochs=20,validation_split=0.1,batch_size=128)"
      ],
      "execution_count": 17,
      "outputs": [
        {
          "output_type": "stream",
          "text": [
            "Train on 54000 samples, validate on 6000 samples\n",
            "Epoch 1/20\n",
            "54000/54000 [==============================] - 3s 57us/step - loss: 0.2494 - acc: 0.9243 - val_loss: 0.0696 - val_acc: 0.9783\n",
            "Epoch 2/20\n",
            "54000/54000 [==============================] - 3s 49us/step - loss: 0.0637 - acc: 0.9804 - val_loss: 0.0456 - val_acc: 0.9870\n",
            "Epoch 3/20\n",
            "54000/54000 [==============================] - 3s 53us/step - loss: 0.0445 - acc: 0.9864 - val_loss: 0.0398 - val_acc: 0.9883\n",
            "Epoch 4/20\n",
            "54000/54000 [==============================] - 3s 49us/step - loss: 0.0352 - acc: 0.9891 - val_loss: 0.0415 - val_acc: 0.9877\n",
            "Epoch 5/20\n",
            "54000/54000 [==============================] - 3s 49us/step - loss: 0.0281 - acc: 0.9909 - val_loss: 0.0364 - val_acc: 0.9900\n",
            "Epoch 6/20\n",
            "54000/54000 [==============================] - 3s 52us/step - loss: 0.0226 - acc: 0.9926 - val_loss: 0.0366 - val_acc: 0.9902\n",
            "Epoch 7/20\n",
            "54000/54000 [==============================] - 3s 51us/step - loss: 0.0208 - acc: 0.9931 - val_loss: 0.0349 - val_acc: 0.9917\n",
            "Epoch 8/20\n",
            "54000/54000 [==============================] - 3s 48us/step - loss: 0.0146 - acc: 0.9953 - val_loss: 0.0361 - val_acc: 0.9918\n",
            "Epoch 9/20\n",
            "54000/54000 [==============================] - 3s 50us/step - loss: 0.0135 - acc: 0.9954 - val_loss: 0.0419 - val_acc: 0.9887\n",
            "Epoch 10/20\n",
            "54000/54000 [==============================] - 3s 50us/step - loss: 0.0123 - acc: 0.9959 - val_loss: 0.0361 - val_acc: 0.9897\n",
            "Epoch 11/20\n",
            "54000/54000 [==============================] - 3s 50us/step - loss: 0.0100 - acc: 0.9965 - val_loss: 0.0350 - val_acc: 0.9922\n",
            "Epoch 12/20\n",
            "54000/54000 [==============================] - 3s 50us/step - loss: 0.0102 - acc: 0.9965 - val_loss: 0.0336 - val_acc: 0.9918\n",
            "Epoch 13/20\n",
            "54000/54000 [==============================] - 3s 49us/step - loss: 0.0070 - acc: 0.9977 - val_loss: 0.0401 - val_acc: 0.9930\n",
            "Epoch 14/20\n",
            "54000/54000 [==============================] - 3s 49us/step - loss: 0.0079 - acc: 0.9973 - val_loss: 0.0410 - val_acc: 0.9927\n",
            "Epoch 15/20\n",
            "54000/54000 [==============================] - 3s 50us/step - loss: 0.0072 - acc: 0.9975 - val_loss: 0.0327 - val_acc: 0.9912\n",
            "Epoch 16/20\n",
            "54000/54000 [==============================] - 3s 49us/step - loss: 0.0052 - acc: 0.9980 - val_loss: 0.0476 - val_acc: 0.9912\n",
            "Epoch 17/20\n",
            "54000/54000 [==============================] - 3s 52us/step - loss: 0.0063 - acc: 0.9981 - val_loss: 0.0413 - val_acc: 0.9920\n",
            "Epoch 18/20\n",
            "54000/54000 [==============================] - 3s 48us/step - loss: 0.0059 - acc: 0.9980 - val_loss: 0.0370 - val_acc: 0.9918\n",
            "Epoch 19/20\n",
            "54000/54000 [==============================] - 3s 49us/step - loss: 0.0045 - acc: 0.9985 - val_loss: 0.0403 - val_acc: 0.9917\n",
            "Epoch 20/20\n",
            "54000/54000 [==============================] - 3s 49us/step - loss: 0.0057 - acc: 0.9984 - val_loss: 0.0369 - val_acc: 0.9925\n"
          ],
          "name": "stdout"
        }
      ]
    },
    {
      "cell_type": "code",
      "metadata": {
        "id": "gc4XTcrK7dwy",
        "colab_type": "code",
        "colab": {}
      },
      "source": [
        "acc = hist.history['acc']\n",
        "val_acc = hist.history['val_acc']\n",
        "loss = hist.history['loss']\n",
        "val_loss = hist.history['val_loss']"
      ],
      "execution_count": 0,
      "outputs": []
    },
    {
      "cell_type": "code",
      "metadata": {
        "id": "mhTBRdKK7dw4",
        "colab_type": "code",
        "colab": {
          "base_uri": "https://localhost:8080/",
          "height": 347
        },
        "outputId": "8a25db3b-c9bb-41ac-8873-c9aed46b7382"
      },
      "source": [
        "plt.plot(acc,label='Training Accuracy')\n",
        "plt.plot(val_acc,label='Validation Accuracy')\n",
        "plt.plot(loss,label='Training Loss')\n",
        "plt.plot(val_loss,label='Validation Loss')\n",
        "plt.legend()\n",
        "plt.show()"
      ],
      "execution_count": 19,
      "outputs": [
        {
          "output_type": "display_data",
          "data": {
            "image/png": "[encoded data removed]",
            "text/plain": [
              "<Figure size 576x396 with 1 Axes>"
            ]
          },
          "metadata": {
            "tags": []
          }
        }
      ]
    },
    {
      "cell_type": "code",
      "metadata": {
        "id": "y4ghyv8k7dw-",
        "colab_type": "code",
        "colab": {
          "base_uri": "https://localhost:8080/",
          "height": 51
        },
        "outputId": "dadf81d5-5eea-483d-8713-48f9b297023e"
      },
      "source": [
        "model.evaluate(Xtest,Ytest)"
      ],
      "execution_count": 20,
      "outputs": [
        {
          "output_type": "stream",
          "text": [
            "10000/10000 [==============================] - 1s 55us/step\n"
          ],
          "name": "stdout"
        },
        {
          "output_type": "execute_result",
          "data": {
            "text/plain": [
              "[0.029525430027430775, 0.9916]"
            ]
          },
          "metadata": {
            "tags": []
          },
          "execution_count": 20
        }
      ]
    }
  ]
}