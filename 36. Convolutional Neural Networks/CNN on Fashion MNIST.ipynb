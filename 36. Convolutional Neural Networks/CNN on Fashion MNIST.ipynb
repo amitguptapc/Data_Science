{
 "cells": [
  {
   "cell_type": "markdown",
   "metadata": {},
   "source": [
    "## Building CNN using Keras\n",
    "#### MNIST Fashion Datset"
   ]
  },
  {
   "cell_type": "code",
   "execution_count": 26,
   "metadata": {},
   "outputs": [],
   "source": [
    "import numpy as np\n",
    "import pandas as pd\n",
    "from keras.models import Sequential\n",
    "from keras.layers import Input,Convolution2D,MaxPooling2D,Flatten,Dense,Dropout\n",
    "from keras.utils import np_utils\n",
    "import tensorflow\n",
    "from matplotlib import pyplot as plt\n",
    "plt.style.use('seaborn')"
   ]
  },
  {
   "cell_type": "markdown",
   "metadata": {},
   "source": [
    "### Dataset Preparation"
   ]
  },
  {
   "cell_type": "code",
   "execution_count": 27,
   "metadata": {},
   "outputs": [
    {
     "name": "stdout",
     "output_type": "stream",
     "text": [
      "(10000, 784) (10000,)\n"
     ]
    }
   ],
   "source": [
    "X = pd.read_csv('Dataset/fashion-mnist.csv')\n",
    "X_ = np.array(X)\n",
    "X = X_[:,1:]\n",
    "X = X / 255.0\n",
    "Y = X_[:,0]\n",
    "print(X.shape,Y.shape)"
   ]
  },
  {
   "cell_type": "code",
   "execution_count": 28,
   "metadata": {},
   "outputs": [
    {
     "data": {
      "text/plain": [
       "array([0, 1, 2, 3, 4, 5, 6, 7, 8, 9])"
      ]
     },
     "execution_count": 28,
     "metadata": {},
     "output_type": "execute_result"
    }
   ],
   "source": [
    "np.unique(Y)"
   ]
  },
  {
   "cell_type": "code",
   "execution_count": 29,
   "metadata": {},
   "outputs": [
    {
     "name": "stdout",
     "output_type": "stream",
     "text": [
      "(10000, 28, 28, 1) (10000, 10)\n"
     ]
    }
   ],
   "source": [
    "X_train = X.reshape((-1,28,28,1))\n",
    "Y_train = np_utils.to_categorical(Y)\n",
    "print(X_train.shape,Y_train.shape)"
   ]
  },
  {
   "cell_type": "code",
   "execution_count": 37,
   "metadata": {},
   "outputs": [
    {
     "data": {
      "image/png": "[encoded data removed]",
      "text/plain": [
       "<Figure size 576x396 with 1 Axes>"
      ]
     },
     "metadata": {},
     "output_type": "display_data"
    },
    {
     "data": {
      "image/png": "[encoded data removed]",
      "text/plain": [
       "<Figure size 576x396 with 1 Axes>"
      ]
     },
     "metadata": {},
     "output_type": "display_data"
    },
    {
     "data": {
      "image/png": "[encoded data removed]",
      "text/plain": [
       "<Figure size 576x396 with 1 Axes>"
      ]
     },
     "metadata": {},
     "output_type": "display_data"
    },
    {
     "data": {
      "image/png": "[encoded data removed]",
      "text/plain": [
       "<Figure size 576x396 with 1 Axes>"
      ]
     },
     "metadata": {},
     "output_type": "display_data"
    },
    {
     "data": {
      "image/png": "[encoded data removed]",
      "text/plain": [
       "<Figure size 576x396 with 1 Axes>"
      ]
     },
     "metadata": {},
     "output_type": "display_data"
    }
   ],
   "source": [
    "for i in range(65,70):\n",
    "    plt.imshow(X_train[i].reshape((28,28)),cmap='gray')\n",
    "    plt.axis('off')\n",
    "    plt.show()"
   ]
  },
  {
   "cell_type": "markdown",
   "metadata": {},
   "source": [
    "### Modelling CNN"
   ]
  },
  {
   "cell_type": "code",
   "execution_count": 40,
   "metadata": {},
   "outputs": [
    {
     "name": "stdout",
     "output_type": "stream",
     "text": [
      "Model: \"sequential_3\"\n",
      "_________________________________________________________________\n",
      "Layer (type)                 Output Shape              Param #   \n",
      "=================================================================\n",
      "conv2d_6 (Conv2D)            (None, 26, 26, 32)        320       \n",
      "_________________________________________________________________\n",
      "conv2d_7 (Conv2D)            (None, 24, 24, 64)        18496     \n",
      "_________________________________________________________________\n",
      "dropout_2 (Dropout)          (None, 24, 24, 64)        0         \n",
      "_________________________________________________________________\n",
      "max_pooling2d_2 (MaxPooling2 (None, 12, 12, 64)        0         \n",
      "_________________________________________________________________\n",
      "conv2d_8 (Conv2D)            (None, 8, 8, 32)          51232     \n",
      "_________________________________________________________________\n",
      "conv2d_9 (Conv2D)            (None, 4, 4, 8)           6408      \n",
      "_________________________________________________________________\n",
      "flatten_1 (Flatten)          (None, 128)               0         \n",
      "_________________________________________________________________\n",
      "dense_1 (Dense)              (None, 10)                1290      \n",
      "=================================================================\n",
      "Total params: 77,746\n",
      "Trainable params: 77,746\n",
      "Non-trainable params: 0\n",
      "_________________________________________________________________\n"
     ]
    }
   ],
   "source": [
    "model = Sequential()\n",
    "model.add(Convolution2D(32,(3,3),activation='relu',input_shape=(28,28,1)))\n",
    "model.add(Convolution2D(64,(3,3),activation='relu'))\n",
    "model.add(Dropout(0.25))\n",
    "model.add(MaxPooling2D(2,2))\n",
    "model.add(Convolution2D(32,(5,5),activation='relu'))\n",
    "model.add(Convolution2D(8,(5,5),activation='relu'))\n",
    "model.add(Flatten())\n",
    "model.add(Dense(10,activation='softmax'))\n",
    "model.summary()"
   ]
  },
  {
   "cell_type": "code",
   "execution_count": 44,
   "metadata": {},
   "outputs": [],
   "source": [
    "model.compile(loss='categorical_crossentropy',optimizer='adam',metrics=['accuracy'])"
   ]
  },
  {
   "cell_type": "code",
   "execution_count": 46,
   "metadata": {},
   "outputs": [
    {
     "name": "stdout",
     "output_type": "stream",
     "text": [
      "WARNING:tensorflow:From /home/amit/.local/lib/python3.6/site-packages/keras/backend/tensorflow_backend.py:422: The name tf.global_variables is deprecated. Please use tf.compat.v1.global_variables instead.\n",
      "\n",
      "Train on 8000 samples, validate on 2000 samples\n",
      "Epoch 1/20\n",
      "8000/8000 [==============================] - 22s 3ms/step - loss: 1.6574 - accuracy: 0.4230 - val_loss: 0.9694 - val_accuracy: 0.6600\n",
      "Epoch 2/20\n",
      "8000/8000 [==============================] - 18s 2ms/step - loss: 0.8211 - accuracy: 0.7006 - val_loss: 0.7288 - val_accuracy: 0.7305\n",
      "Epoch 3/20\n",
      "8000/8000 [==============================] - 20s 3ms/step - loss: 0.6844 - accuracy: 0.7460 - val_loss: 0.6675 - val_accuracy: 0.7450\n",
      "Epoch 4/20\n",
      "8000/8000 [==============================] - 18s 2ms/step - loss: 0.6036 - accuracy: 0.7729 - val_loss: 0.5967 - val_accuracy: 0.7750\n",
      "Epoch 5/20\n",
      "8000/8000 [==============================] - 18s 2ms/step - loss: 0.5640 - accuracy: 0.7915 - val_loss: 0.5743 - val_accuracy: 0.7885\n",
      "Epoch 6/20\n",
      "8000/8000 [==============================] - 20s 2ms/step - loss: 0.5296 - accuracy: 0.8089 - val_loss: 0.5312 - val_accuracy: 0.8140\n",
      "Epoch 7/20\n",
      "8000/8000 [==============================] - 20s 3ms/step - loss: 0.4882 - accuracy: 0.8210 - val_loss: 0.4998 - val_accuracy: 0.8235\n",
      "Epoch 8/20\n",
      "8000/8000 [==============================] - 18s 2ms/step - loss: 0.4649 - accuracy: 0.8288 - val_loss: 0.5103 - val_accuracy: 0.8185\n",
      "Epoch 9/20\n",
      "8000/8000 [==============================] - 18s 2ms/step - loss: 0.4445 - accuracy: 0.8407 - val_loss: 0.4900 - val_accuracy: 0.8315\n",
      "Epoch 10/20\n",
      "8000/8000 [==============================] - 21s 3ms/step - loss: 0.4228 - accuracy: 0.8504 - val_loss: 0.4609 - val_accuracy: 0.8350\n",
      "Epoch 11/20\n",
      "8000/8000 [==============================] - 19s 2ms/step - loss: 0.4034 - accuracy: 0.8576 - val_loss: 0.4357 - val_accuracy: 0.8505\n",
      "Epoch 12/20\n",
      "8000/8000 [==============================] - 25s 3ms/step - loss: 0.3779 - accuracy: 0.8629 - val_loss: 0.4356 - val_accuracy: 0.8585\n",
      "Epoch 13/20\n",
      "8000/8000 [==============================] - 20s 3ms/step - loss: 0.3589 - accuracy: 0.8712 - val_loss: 0.4304 - val_accuracy: 0.8595\n",
      "Epoch 14/20\n",
      "8000/8000 [==============================] - 22s 3ms/step - loss: 0.3504 - accuracy: 0.8754 - val_loss: 0.4139 - val_accuracy: 0.8575\n",
      "Epoch 15/20\n",
      "8000/8000 [==============================] - 22s 3ms/step - loss: 0.3408 - accuracy: 0.8770 - val_loss: 0.3972 - val_accuracy: 0.8700\n",
      "Epoch 16/20\n",
      "8000/8000 [==============================] - 20s 2ms/step - loss: 0.3204 - accuracy: 0.8852 - val_loss: 0.3920 - val_accuracy: 0.8720\n",
      "Epoch 17/20\n",
      "8000/8000 [==============================] - 17s 2ms/step - loss: 0.3107 - accuracy: 0.8863 - val_loss: 0.4072 - val_accuracy: 0.8610\n",
      "Epoch 18/20\n",
      "8000/8000 [==============================] - 18s 2ms/step - loss: 0.2974 - accuracy: 0.8936 - val_loss: 0.4128 - val_accuracy: 0.8540\n",
      "Epoch 19/20\n",
      "8000/8000 [==============================] - 18s 2ms/step - loss: 0.2954 - accuracy: 0.8923 - val_loss: 0.3869 - val_accuracy: 0.8715\n",
      "Epoch 20/20\n",
      "8000/8000 [==============================] - 18s 2ms/step - loss: 0.2819 - accuracy: 0.8997 - val_loss: 0.3863 - val_accuracy: 0.8665\n"
     ]
    }
   ],
   "source": [
    "hist = model.fit(X_train,Y_train,epochs=20,shuffle=True,batch_size=256,validation_split=0.2)"
   ]
  },
  {
   "cell_type": "code",
   "execution_count": 56,
   "metadata": {},
   "outputs": [
    {
     "data": {
      "image/png": "[encoded data removed]",
      "text/plain": [
       "<Figure size 576x396 with 1 Axes>"
      ]
     },
     "metadata": {},
     "output_type": "display_data"
    }
   ],
   "source": [
    "plt.plot(hist.history['loss'],'g')\n",
    "plt.plot(hist.history['val_loss'],'b')\n",
    "plt.plot(hist.history['accuracy'],'r')\n",
    "plt.plot(hist.history['val_accuracy'],'black')\n",
    "plt.show()"
   ]
  },
  {
   "cell_type": "code",
   "execution_count": null,
   "metadata": {},
   "outputs": [],
   "source": []
  }
 ],
 "metadata": {
  "kernelspec": {
   "display_name": "Python 3",
   "language": "python",
   "name": "python3"
  },
  "language_info": {
   "codemirror_mode": {
    "name": "ipython",
    "version": 3
   },
   "file_extension": ".py",
   "mimetype": "text/x-python",
   "name": "python",
   "nbconvert_exporter": "python",
   "pygments_lexer": "ipython3",
   "version": "3.6.9"
  }
 },
 "nbformat": 4,
 "nbformat_minor": 2
}
